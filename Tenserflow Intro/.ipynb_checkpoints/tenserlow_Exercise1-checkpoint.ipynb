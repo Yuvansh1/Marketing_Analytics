{
 "cells": [
  {
   "cell_type": "code",
   "execution_count": null,
   "metadata": {},
   "outputs": [],
   "source": [
    "#Tensorflow is a open-source library for graph-based numerical computation\n",
    "\n",
    "# >> It is developed by the Google Brain Team.\n",
    "\n",
    "\n",
    "#Low and High Level APIs\n",
    "\n",
    "# >> Addition, Multiplication, Differentiation\n",
    "\n",
    "# >> Machine Learning Models\n",
    "\n",
    "\n",
    "#Important changes in Tensorflow 2.0\n",
    "\n",
    "# >> Eager execution by default\n",
    "\n",
    "# >> Model building with Keras and Estimators\n",
    "\n",
    "\n",
    "#Tensor is a generalization of vectors and matrices\n",
    "\n",
    "#It is a collection of numbers which is arranged into a particular shape "
   ]
  },
  {
   "cell_type": "code",
   "execution_count": 2,
   "metadata": {},
   "outputs": [],
   "source": [
    "import tensorflow as tf\n",
    "\n",
    "\n",
    "# 0D Tensor\n",
    "\n",
    "d0 = tf.ones((1,))\n",
    "\n",
    "\n",
    "# 1D Tensor\n",
    "\n",
    "d1 = tf.ones((2,))\n",
    "\n",
    "\n",
    "# 2D Tensor\n",
    "\n",
    "d2 = tf.ones((2,2))\n",
    "\n",
    "# 3D Tensor\n",
    "\n",
    "d3 = tf.ones((2,2,2))"
   ]
  },
  {
   "cell_type": "code",
   "execution_count": 10,
   "metadata": {},
   "outputs": [
    {
     "ename": "AttributeError",
     "evalue": "'Tensor' object has no attribute 'numpy'",
     "output_type": "error",
     "traceback": [
      "\u001b[1;31m---------------------------------------------------------------------------\u001b[0m",
      "\u001b[1;31mAttributeError\u001b[0m                            Traceback (most recent call last)",
      "\u001b[1;32m<ipython-input-10-2567d6df30e4>\u001b[0m in \u001b[0;36m<module>\u001b[1;34m\u001b[0m\n\u001b[0;32m      1\u001b[0m \u001b[1;33m\u001b[0m\u001b[0m\n\u001b[0;32m      2\u001b[0m \u001b[1;31m#Print the 3d Tensor\u001b[0m\u001b[1;33m\u001b[0m\u001b[1;33m\u001b[0m\u001b[1;33m\u001b[0m\u001b[0m\n\u001b[1;32m----> 3\u001b[1;33m \u001b[0mprint\u001b[0m\u001b[1;33m(\u001b[0m\u001b[0md3\u001b[0m\u001b[1;33m.\u001b[0m\u001b[0mnumpy\u001b[0m\u001b[1;33m(\u001b[0m\u001b[1;33m)\u001b[0m\u001b[1;33m)\u001b[0m\u001b[1;33m\u001b[0m\u001b[1;33m\u001b[0m\u001b[0m\n\u001b[0m",
      "\u001b[1;31mAttributeError\u001b[0m: 'Tensor' object has no attribute 'numpy'"
     ]
    }
   ],
   "source": [
    "\n",
    "#Print the 3d Tensor\n",
    "print(d3.numpy())\n"
   ]
  },
  {
   "cell_type": "code",
   "execution_count": 19,
   "metadata": {},
   "outputs": [],
   "source": [
    "#Defining constants in Tenserflow\n",
    "\n",
    "# >> A constant is the simplest category of tensor\n",
    "\n",
    "# >> Not Trainable\n",
    "\n",
    "# >> Can have any dimension\n",
    "\n",
    "from tensorflow import constant\n",
    "\n",
    "#Define a 2 x 3 constant.\n",
    "\n",
    "a = constant(3, shape = [2, 3])\n",
    "\n",
    "#Define a 2 x 2 constant.\n",
    "\n",
    "b = constant([1,2,3,4], shape = [2, 2])"
   ]
  },
  {
   "cell_type": "code",
   "execution_count": null,
   "metadata": {},
   "outputs": [],
   "source": [
    "#Using convenience functions to define constants\n",
    "\n",
    "''' Operation                            Example\n",
    "\n",
    "    tf.constant()                        constant([1,2,3])\n",
    "    tf.zeros()                           zeros([2,2])\n",
    "    tf.zeros_like()                      zeros_like(input_tensor)\n",
    "    tf.ones()                            ones([2,2])\n",
    "    tf.ones_like()                       ones_like(input_tensor)\n",
    "    tf.fill()                            fill([3,3], 7)\n",
    "    \n",
    "'''    "
   ]
  },
  {
   "cell_type": "code",
   "execution_count": 20,
   "metadata": {},
   "outputs": [],
   "source": [
    "#Define a variable\n",
    "\n",
    "a0 = tf.Variable([1, 2, 3, 4, 5, 6], dtype = tf.float32)\n",
    "a1 = tf.Variable([1, 2, 3, 4, 5, 6], dtype = tf.int16)\n",
    "\n",
    "\n",
    "#Define a constant\n",
    "b = tf.constant(2, tf.float32)\n",
    "\n",
    "#Compute their product\n",
    "\n",
    "c0 = tf.multiply(a0, b)\n",
    "c1 = a0*b"
   ]
  },
  {
   "cell_type": "code",
   "execution_count": 9,
   "metadata": {},
   "outputs": [
    {
     "name": "stdout",
     "output_type": "stream",
     "text": [
      "Is there a GPU available: \n",
      "False\n",
      "Is the Tensor on GPU #0:  \n",
      "False\n"
     ]
    }
   ],
   "source": [
    "x = tf.random_uniform([3, 3])\n",
    "\n",
    "print(\"Is there a GPU available: \"),\n",
    "print(tf.test.is_gpu_available())\n",
    "\n",
    "print(\"Is the Tensor on GPU #0:  \"),\n",
    "print(x.device.endswith('GPU:0'))"
   ]
  },
  {
   "cell_type": "code",
   "execution_count": null,
   "metadata": {},
   "outputs": [],
   "source": [
    "from tensorflow import constant, add\n",
    "\n",
    "#Define a 0 dimensional tensor\n",
    "\n",
    "A0 = constant([1])\n",
    "B0 = constant([2])\n",
    "\n",
    "\n",
    "#Define a 1 dimensional tensor\n",
    "\n",
    "A1 = constant([1, 2])\n",
    "B1 = constant([3, 4])\n",
    "\n",
    "\n",
    "#Define a 2 dimensional tensor\n",
    "\n",
    "A2 = constant([1, 2], [3, 4])\n",
    "B2 = constant([5, 6], [7, 8])"
   ]
  }
 ],
 "metadata": {
  "kernelspec": {
   "display_name": "Python 3",
   "language": "python",
   "name": "python3"
  },
  "language_info": {
   "codemirror_mode": {
    "name": "ipython",
    "version": 3
   },
   "file_extension": ".py",
   "mimetype": "text/x-python",
   "name": "python",
   "nbconvert_exporter": "python",
   "pygments_lexer": "ipython3",
   "version": "3.7.3"
  }
 },
 "nbformat": 4,
 "nbformat_minor": 2
}
