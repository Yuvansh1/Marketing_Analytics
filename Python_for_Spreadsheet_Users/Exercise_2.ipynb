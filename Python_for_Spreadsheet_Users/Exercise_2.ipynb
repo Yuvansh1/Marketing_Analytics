{
 "cells": [
  {
   "cell_type": "code",
   "execution_count": 2,
   "metadata": {},
   "outputs": [],
   "source": [
    "import pandas as pd\n",
    "\n",
    "\n",
    "#Import Excel File\n",
    "movie_sales = pd.read_excel('movie theater sales data.xlsx')"
   ]
  },
  {
   "cell_type": "code",
   "execution_count": 4,
   "metadata": {},
   "outputs": [
    {
     "data": {
      "text/html": [
       "<div>\n",
       "<style scoped>\n",
       "    .dataframe tbody tr th:only-of-type {\n",
       "        vertical-align: middle;\n",
       "    }\n",
       "\n",
       "    .dataframe tbody tr th {\n",
       "        vertical-align: top;\n",
       "    }\n",
       "\n",
       "    .dataframe thead th {\n",
       "        text-align: right;\n",
       "    }\n",
       "</style>\n",
       "<table border=\"1\" class=\"dataframe\">\n",
       "  <thead>\n",
       "    <tr style=\"text-align: right;\">\n",
       "      <th></th>\n",
       "      <th>theater_name</th>\n",
       "      <th>movie_title</th>\n",
       "      <th>ticket_type</th>\n",
       "      <th>ticket_quantity</th>\n",
       "    </tr>\n",
       "  </thead>\n",
       "  <tbody>\n",
       "    <tr>\n",
       "      <th>0</th>\n",
       "      <td>Sumdance Cinemas</td>\n",
       "      <td>Harry Plotter</td>\n",
       "      <td>senior</td>\n",
       "      <td>4</td>\n",
       "    </tr>\n",
       "    <tr>\n",
       "      <th>1</th>\n",
       "      <td>The Empirical House</td>\n",
       "      <td>10 Things I Hate About Unix</td>\n",
       "      <td>child</td>\n",
       "      <td>2</td>\n",
       "    </tr>\n",
       "    <tr>\n",
       "      <th>2</th>\n",
       "      <td>The Empirical House</td>\n",
       "      <td>The Seaborn Identity</td>\n",
       "      <td>adult</td>\n",
       "      <td>4</td>\n",
       "    </tr>\n",
       "    <tr>\n",
       "      <th>3</th>\n",
       "      <td>Sumdance Cinemas</td>\n",
       "      <td>10 Things I Hate About Unix</td>\n",
       "      <td>adult</td>\n",
       "      <td>2</td>\n",
       "    </tr>\n",
       "    <tr>\n",
       "      <th>4</th>\n",
       "      <td>The Empirical House</td>\n",
       "      <td>Mamma Median!</td>\n",
       "      <td>senior</td>\n",
       "      <td>2</td>\n",
       "    </tr>\n",
       "  </tbody>\n",
       "</table>\n",
       "</div>"
      ],
      "text/plain": [
       "          theater_name                  movie_title ticket_type  \\\n",
       "0     Sumdance Cinemas                Harry Plotter      senior   \n",
       "1  The Empirical House  10 Things I Hate About Unix       child   \n",
       "2  The Empirical House         The Seaborn Identity       adult   \n",
       "3     Sumdance Cinemas  10 Things I Hate About Unix       adult   \n",
       "4  The Empirical House                Mamma Median!      senior   \n",
       "\n",
       "   ticket_quantity  \n",
       "0                4  \n",
       "1                2  \n",
       "2                4  \n",
       "3                2  \n",
       "4                2  "
      ]
     },
     "execution_count": 4,
     "metadata": {},
     "output_type": "execute_result"
    }
   ],
   "source": [
    "movie_sales.head()"
   ]
  },
  {
   "cell_type": "code",
   "execution_count": 6,
   "metadata": {
    "scrolled": true
   },
   "outputs": [
    {
     "data": {
      "text/plain": [
       "ticket_quantity    2305\n",
       "dtype: int64"
      ]
     },
     "execution_count": 6,
     "metadata": {},
     "output_type": "execute_result"
    }
   ],
   "source": [
    "#Sum only numeric value\n",
    "movie_sales.sum(numeric_only = True)"
   ]
  },
  {
   "cell_type": "code",
   "execution_count": 7,
   "metadata": {
    "scrolled": true
   },
   "outputs": [
    {
     "data": {
      "text/html": [
       "<div>\n",
       "<style scoped>\n",
       "    .dataframe tbody tr th:only-of-type {\n",
       "        vertical-align: middle;\n",
       "    }\n",
       "\n",
       "    .dataframe tbody tr th {\n",
       "        vertical-align: top;\n",
       "    }\n",
       "\n",
       "    .dataframe thead th {\n",
       "        text-align: right;\n",
       "    }\n",
       "</style>\n",
       "<table border=\"1\" class=\"dataframe\">\n",
       "  <thead>\n",
       "    <tr style=\"text-align: right;\">\n",
       "      <th></th>\n",
       "      <th>movie_title</th>\n",
       "      <th>ticket_quantity</th>\n",
       "    </tr>\n",
       "  </thead>\n",
       "  <tbody>\n",
       "    <tr>\n",
       "      <th>0</th>\n",
       "      <td>10 Things I Hate About Unix</td>\n",
       "      <td>331</td>\n",
       "    </tr>\n",
       "    <tr>\n",
       "      <th>1</th>\n",
       "      <td>Harry Plotter</td>\n",
       "      <td>292</td>\n",
       "    </tr>\n",
       "    <tr>\n",
       "      <th>2</th>\n",
       "      <td>Kung Fu pandas</td>\n",
       "      <td>253</td>\n",
       "    </tr>\n",
       "    <tr>\n",
       "      <th>3</th>\n",
       "      <td>Mamma Median!</td>\n",
       "      <td>323</td>\n",
       "    </tr>\n",
       "    <tr>\n",
       "      <th>4</th>\n",
       "      <td>The Matrices</td>\n",
       "      <td>343</td>\n",
       "    </tr>\n",
       "    <tr>\n",
       "      <th>5</th>\n",
       "      <td>The Seaborn Identity</td>\n",
       "      <td>352</td>\n",
       "    </tr>\n",
       "    <tr>\n",
       "      <th>6</th>\n",
       "      <td>The Sumif All Fears</td>\n",
       "      <td>156</td>\n",
       "    </tr>\n",
       "    <tr>\n",
       "      <th>7</th>\n",
       "      <td>There's Something About Merging</td>\n",
       "      <td>149</td>\n",
       "    </tr>\n",
       "    <tr>\n",
       "      <th>8</th>\n",
       "      <td>While You Were Sorting</td>\n",
       "      <td>106</td>\n",
       "    </tr>\n",
       "  </tbody>\n",
       "</table>\n",
       "</div>"
      ],
      "text/plain": [
       "                       movie_title  ticket_quantity\n",
       "0      10 Things I Hate About Unix              331\n",
       "1                    Harry Plotter              292\n",
       "2                   Kung Fu pandas              253\n",
       "3                    Mamma Median!              323\n",
       "4                     The Matrices              343\n",
       "5             The Seaborn Identity              352\n",
       "6              The Sumif All Fears              156\n",
       "7  There's Something About Merging              149\n",
       "8           While You Were Sorting              106"
      ]
     },
     "execution_count": 7,
     "metadata": {},
     "output_type": "execute_result"
    }
   ],
   "source": [
    "#Pivot Table according to movie name\n",
    "movie_sales.groupby('movie_title', as_index = False).sum()"
   ]
  },
  {
   "cell_type": "code",
   "execution_count": 8,
   "metadata": {
    "scrolled": true
   },
   "outputs": [
    {
     "data": {
      "text/html": [
       "<div>\n",
       "<style scoped>\n",
       "    .dataframe tbody tr th:only-of-type {\n",
       "        vertical-align: middle;\n",
       "    }\n",
       "\n",
       "    .dataframe tbody tr th {\n",
       "        vertical-align: top;\n",
       "    }\n",
       "\n",
       "    .dataframe thead th {\n",
       "        text-align: right;\n",
       "    }\n",
       "</style>\n",
       "<table border=\"1\" class=\"dataframe\">\n",
       "  <thead>\n",
       "    <tr style=\"text-align: right;\">\n",
       "      <th></th>\n",
       "      <th>ticket_type</th>\n",
       "      <th>ticket_quantity</th>\n",
       "    </tr>\n",
       "  </thead>\n",
       "  <tbody>\n",
       "    <tr>\n",
       "      <th>0</th>\n",
       "      <td>adult</td>\n",
       "      <td>1383</td>\n",
       "    </tr>\n",
       "    <tr>\n",
       "      <th>1</th>\n",
       "      <td>child</td>\n",
       "      <td>487</td>\n",
       "    </tr>\n",
       "    <tr>\n",
       "      <th>2</th>\n",
       "      <td>senior</td>\n",
       "      <td>435</td>\n",
       "    </tr>\n",
       "  </tbody>\n",
       "</table>\n",
       "</div>"
      ],
      "text/plain": [
       "  ticket_type  ticket_quantity\n",
       "0       adult             1383\n",
       "1       child              487\n",
       "2      senior              435"
      ]
     },
     "execution_count": 8,
     "metadata": {},
     "output_type": "execute_result"
    }
   ],
   "source": [
    "#Pivot Table according to movie type\n",
    "movie_sales.groupby('ticket_type', as_index = False).sum()"
   ]
  },
  {
   "cell_type": "code",
   "execution_count": 9,
   "metadata": {},
   "outputs": [
    {
     "data": {
      "text/html": [
       "<div>\n",
       "<style scoped>\n",
       "    .dataframe tbody tr th:only-of-type {\n",
       "        vertical-align: middle;\n",
       "    }\n",
       "\n",
       "    .dataframe tbody tr th {\n",
       "        vertical-align: top;\n",
       "    }\n",
       "\n",
       "    .dataframe thead th {\n",
       "        text-align: right;\n",
       "    }\n",
       "</style>\n",
       "<table border=\"1\" class=\"dataframe\">\n",
       "  <thead>\n",
       "    <tr style=\"text-align: right;\">\n",
       "      <th></th>\n",
       "      <th>theater_name</th>\n",
       "      <th>ticket_quantity</th>\n",
       "    </tr>\n",
       "  </thead>\n",
       "  <tbody>\n",
       "    <tr>\n",
       "      <th>0</th>\n",
       "      <td>Richie's Famous Minimax Theatre</td>\n",
       "      <td>572</td>\n",
       "    </tr>\n",
       "    <tr>\n",
       "      <th>1</th>\n",
       "      <td>Sumdance Cinemas</td>\n",
       "      <td>584</td>\n",
       "    </tr>\n",
       "    <tr>\n",
       "      <th>2</th>\n",
       "      <td>The Empirical House</td>\n",
       "      <td>554</td>\n",
       "    </tr>\n",
       "    <tr>\n",
       "      <th>3</th>\n",
       "      <td>The Frame</td>\n",
       "      <td>595</td>\n",
       "    </tr>\n",
       "  </tbody>\n",
       "</table>\n",
       "</div>"
      ],
      "text/plain": [
       "                      theater_name  ticket_quantity\n",
       "0  Richie's Famous Minimax Theatre              572\n",
       "1                 Sumdance Cinemas              584\n",
       "2              The Empirical House              554\n",
       "3                        The Frame              595"
      ]
     },
     "execution_count": 9,
     "metadata": {},
     "output_type": "execute_result"
    }
   ],
   "source": [
    "#Pivot Table according to theater name\n",
    "movie_sales.groupby('theater_name', as_index = False).sum()"
   ]
  },
  {
   "cell_type": "code",
   "execution_count": 13,
   "metadata": {
    "scrolled": true
   },
   "outputs": [
    {
     "name": "stdout",
     "output_type": "stream",
     "text": [
      "                      theater_name                  movie_title ticket_type  \\\n",
      "0  Richie's Famous Minimax Theatre  10 Things I Hate About Unix       adult   \n",
      "1  Richie's Famous Minimax Theatre  10 Things I Hate About Unix       child   \n",
      "2  Richie's Famous Minimax Theatre  10 Things I Hate About Unix      senior   \n",
      "3  Richie's Famous Minimax Theatre                Harry Plotter       adult   \n",
      "4  Richie's Famous Minimax Theatre                Harry Plotter       child   \n",
      "\n",
      "   ticket_quantity  \n",
      "0               31  \n",
      "1               18  \n",
      "2               25  \n",
      "3               39  \n",
      "4                6  \n"
     ]
    }
   ],
   "source": [
    "#Pivot Table with mutiple columns\n",
    "\n",
    "all_columns = ['theater_name','movie_title','ticket_type']\n",
    "all_group = movie_sales.groupby(all_columns, as_index = False).sum()\n",
    "\n",
    "print(all_group.head())"
   ]
  },
  {
   "cell_type": "code",
   "execution_count": 15,
   "metadata": {},
   "outputs": [],
   "source": [
    "# Summarize by movie title and ticket type\n",
    "movies_by_ticket_type = movie_sales.groupby(['movie_title', 'ticket_type'], as_index=False).sum()\n",
    "\n",
    "# Filter for senior tickets\n",
    "senior_ticket_movies = movies_by_ticket_type[movies_by_ticket_type['ticket_type'] == 'senior'].reset_index(drop=True)\n",
    "\n",
    "# Sort senior ticket sales descending\n",
    "ordered_senior_movies = senior_ticket_movies.sort_values('ticket_quantity', ascending=False).reset_index(drop=True)"
   ]
  },
  {
   "cell_type": "code",
   "execution_count": 17,
   "metadata": {
    "scrolled": true
   },
   "outputs": [
    {
     "name": "stdout",
     "output_type": "stream",
     "text": [
      "                      theater_name                  movie_title ticket_type  \\\n",
      "0  Richie's Famous Minimax Theatre  10 Things I Hate About Unix       adult   \n",
      "1  Richie's Famous Minimax Theatre  10 Things I Hate About Unix       child   \n",
      "2  Richie's Famous Minimax Theatre  10 Things I Hate About Unix      senior   \n",
      "\n",
      "   ticket_quantity  \n",
      "0         1.722222  \n",
      "1         2.571429  \n",
      "2         1.923077  \n"
     ]
    }
   ],
   "source": [
    "#Group by mean() (average)\n",
    "all_columns = ['theater_name','movie_title','ticket_type']\n",
    "all_group_mean = movie_sales.groupby(all_columns, as_index = False).mean()\n",
    "print(all_group_mean.head(3))"
   ]
  },
  {
   "cell_type": "code",
   "execution_count": null,
   "metadata": {},
   "outputs": [],
   "source": [
    "# Create a summary by theater location and movie title\n",
    "totals = movie_sales.groupby(['theater_location', 'movie_title'], as_index=False).sum()\n",
    "\n",
    "# Sort totals by ticket quantity in descending order\n",
    "totals_sorted = totals.sort_values('ticket_quantity', ascending=False).reset_index(drop=True)\n",
    "\n",
    "# Take the top row for each theater location\n",
    "top_movies = totals_sorted.groupby('theater_location').head(1).reset_index(drop=True)\n",
    "\n",
    "# Print results\n",
    "print(top_movies)"
   ]
  },
  {
   "cell_type": "code",
   "execution_count": null,
   "metadata": {},
   "outputs": [],
   "source": [
    "# Summary of movies and locations\n",
    "theater_movie_summary = sales.groupby(['theater_location', 'movie_title'], as_index=False).sum()\n",
    "\n",
    "# Get average ticket sales by movie title\n",
    "avg_sale_by_movie = theater_movie_summary.groupby('movie_title', as_index=False).mean()\n",
    "\n",
    "# Sort average ticket sales in descending order\n",
    "movies_sorted = avg_sale_by_movie.sort_values('ticket_quantity', ascending=False).reset_index(drop=True)\n",
    "\n",
    "# Print results\n",
    "print(movies_sorted.head(1))"
   ]
  }
 ],
 "metadata": {
  "kernelspec": {
   "display_name": "Python 3",
   "language": "python",
   "name": "python3"
  },
  "language_info": {
   "codemirror_mode": {
    "name": "ipython",
    "version": 3
   },
   "file_extension": ".py",
   "mimetype": "text/x-python",
   "name": "python",
   "nbconvert_exporter": "python",
   "pygments_lexer": "ipython3",
   "version": "3.7.3"
  }
 },
 "nbformat": 4,
 "nbformat_minor": 2
}
