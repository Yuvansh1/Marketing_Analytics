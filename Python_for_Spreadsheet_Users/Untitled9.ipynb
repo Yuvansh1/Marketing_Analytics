{
 "cells": [
  {
   "cell_type": "code",
   "execution_count": 1,
   "metadata": {},
   "outputs": [],
   "source": [
    "from __future__ import print_function\n",
    "import pandas as pd\n",
    "from gspread_pandas import Spread, Client\n",
    "\n",
    "#file_name = \"http://stats.idre.ucla.edu/stat/data/binary.csv\"\n",
    "#df = pd.read_csv(file_name)\n",
    "\n",
    "# 'Example Spreadsheet' needs to already exist and your user must have access to it\n",
    "spread = Spread('Test_SF')\n",
    "# This will ask to authenticate if you haven't done so before\n",
    "\n",
    "# Display available worksheets\n",
    "spread.sheets\n",
    "\n",
    "# Save DataFrame to worksheet 'New Test Sheet', create it first if it doesn't exist\n",
    "spread.df_to_sheet(df, index=False, sheet='New Test Sheet', start='A2', replace=True)\n",
    "spread.update_cells('A1', 'A1', ['Created by:', spread.email])\n",
    "print(spread)\n",
    "# <gspread_pandas.client.Spread - User: '<example_user>@gmail.com', Spread: 'Example Spreadsheet', Sheet: 'New Test Sheet'>\n",
    "\n",
    "# You can now first instanciate a Client separately and query folders and\n",
    "# instanciate other Spread objects by passing in the Client\n",
    "client = Client()\n",
    "# Assumming you have a dir called 'example dir' with sheets in it\n",
    "available_sheets = client.find_spreadsheet_files_in_folders('example dir')\n",
    "spreads = []\n",
    "for sheet in available_sheets.get('example dir', []):\n",
    "    spreads.append(Spread(sheet['id'], client=client))"
   ]
  },
  {
   "cell_type": "code",
   "execution_count": 5,
   "metadata": {},
   "outputs": [
    {
     "ename": "OSError",
     "evalue": "No Google client config found.\nPlease download json from https://console.developers.google.com/apis/credentials and save as C:\\Users\\New User\\AppData\\Roaming\\gspread_pandas\\google_secret.json",
     "output_type": "error",
     "traceback": [
      "\u001b[1;31m---------------------------------------------------------------------------\u001b[0m",
      "\u001b[1;31mOSError\u001b[0m                                   Traceback (most recent call last)",
      "\u001b[1;32m<ipython-input-5-cb522676083c>\u001b[0m in \u001b[0;36m<module>\u001b[1;34m\u001b[0m\n\u001b[0;32m      7\u001b[0m \u001b[1;33m\u001b[0m\u001b[0m\n\u001b[0;32m      8\u001b[0m \u001b[1;31m# 'Example Spreadsheet' needs to already exist and your user must have access to it\u001b[0m\u001b[1;33m\u001b[0m\u001b[1;33m\u001b[0m\u001b[1;33m\u001b[0m\u001b[0m\n\u001b[1;32m----> 9\u001b[1;33m \u001b[0mspread\u001b[0m \u001b[1;33m=\u001b[0m \u001b[0mSpread\u001b[0m\u001b[1;33m(\u001b[0m\u001b[1;34m'Test_SF'\u001b[0m\u001b[1;33m)\u001b[0m\u001b[1;33m\u001b[0m\u001b[1;33m\u001b[0m\u001b[0m\n\u001b[0m\u001b[0;32m     10\u001b[0m \u001b[1;31m# This will ask to authenticate if you haven't done so before\u001b[0m\u001b[1;33m\u001b[0m\u001b[1;33m\u001b[0m\u001b[1;33m\u001b[0m\u001b[0m\n\u001b[0;32m     11\u001b[0m \u001b[1;33m\u001b[0m\u001b[0m\n",
      "\u001b[1;32m~\\Anaconda3\\lib\\site-packages\\gspread_pandas\\spread.py\u001b[0m in \u001b[0;36m__init__\u001b[1;34m(self, spread, sheet, config, create_spread, create_sheet, scope, user, creds, client, permissions)\u001b[0m\n\u001b[0;32m    124\u001b[0m             \u001b[0mself\u001b[0m\u001b[1;33m.\u001b[0m\u001b[0mclient\u001b[0m \u001b[1;33m=\u001b[0m \u001b[0mclient\u001b[0m\u001b[1;33m\u001b[0m\u001b[1;33m\u001b[0m\u001b[0m\n\u001b[0;32m    125\u001b[0m         \u001b[1;32melse\u001b[0m\u001b[1;33m:\u001b[0m\u001b[1;33m\u001b[0m\u001b[1;33m\u001b[0m\u001b[0m\n\u001b[1;32m--> 126\u001b[1;33m             \u001b[0mself\u001b[0m\u001b[1;33m.\u001b[0m\u001b[0mclient\u001b[0m \u001b[1;33m=\u001b[0m \u001b[0mClient\u001b[0m\u001b[1;33m(\u001b[0m\u001b[0muser\u001b[0m\u001b[1;33m,\u001b[0m \u001b[0mconfig\u001b[0m\u001b[1;33m,\u001b[0m \u001b[0mscope\u001b[0m\u001b[1;33m,\u001b[0m \u001b[0mcreds\u001b[0m\u001b[1;33m)\u001b[0m\u001b[1;33m\u001b[0m\u001b[1;33m\u001b[0m\u001b[0m\n\u001b[0m\u001b[0;32m    127\u001b[0m \u001b[1;33m\u001b[0m\u001b[0m\n\u001b[0;32m    128\u001b[0m         \u001b[0mmonkey_patch_request\u001b[0m\u001b[1;33m(\u001b[0m\u001b[0mself\u001b[0m\u001b[1;33m.\u001b[0m\u001b[0mclient\u001b[0m\u001b[1;33m)\u001b[0m\u001b[1;33m\u001b[0m\u001b[1;33m\u001b[0m\u001b[0m\n",
      "\u001b[1;32m~\\Anaconda3\\lib\\site-packages\\gspread_pandas\\client.py\u001b[0m in \u001b[0;36m__init__\u001b[1;34m(self, user, config, scope, creds, session, load_dirs)\u001b[0m\n\u001b[0;32m     87\u001b[0m                 \u001b[0mcredentials\u001b[0m \u001b[1;33m=\u001b[0m \u001b[0mconvert_credentials\u001b[0m\u001b[1;33m(\u001b[0m\u001b[0mcreds\u001b[0m\u001b[1;33m)\u001b[0m\u001b[1;33m\u001b[0m\u001b[1;33m\u001b[0m\u001b[0m\n\u001b[0;32m     88\u001b[0m             \u001b[1;32melif\u001b[0m \u001b[0misinstance\u001b[0m\u001b[1;33m(\u001b[0m\u001b[0muser\u001b[0m\u001b[1;33m,\u001b[0m \u001b[0mbasestring\u001b[0m\u001b[1;33m)\u001b[0m\u001b[1;33m:\u001b[0m\u001b[1;33m\u001b[0m\u001b[1;33m\u001b[0m\u001b[0m\n\u001b[1;32m---> 89\u001b[1;33m                 \u001b[0mcredentials\u001b[0m \u001b[1;33m=\u001b[0m \u001b[0mget_creds\u001b[0m\u001b[1;33m(\u001b[0m\u001b[0muser\u001b[0m\u001b[1;33m,\u001b[0m \u001b[0mconfig\u001b[0m\u001b[1;33m,\u001b[0m \u001b[0mself\u001b[0m\u001b[1;33m.\u001b[0m\u001b[0mscope\u001b[0m\u001b[1;33m)\u001b[0m\u001b[1;33m\u001b[0m\u001b[1;33m\u001b[0m\u001b[0m\n\u001b[0m\u001b[0;32m     90\u001b[0m             \u001b[1;32melse\u001b[0m\u001b[1;33m:\u001b[0m\u001b[1;33m\u001b[0m\u001b[1;33m\u001b[0m\u001b[0m\n\u001b[0;32m     91\u001b[0m                 raise TypeError(\n",
      "\u001b[1;32m~\\Anaconda3\\lib\\site-packages\\gspread_pandas\\conf.py\u001b[0m in \u001b[0;36mget_creds\u001b[1;34m(user, config, scope, creds_dir, save)\u001b[0m\n\u001b[0;32m    132\u001b[0m         \u001b[0mGoogle\u001b[0m \u001b[0mcredentials\u001b[0m \u001b[0mthat\u001b[0m \u001b[0mcan\u001b[0m \u001b[0mbe\u001b[0m \u001b[0mused\u001b[0m \u001b[1;32mwith\u001b[0m \u001b[0mgspread\u001b[0m\u001b[1;33m\u001b[0m\u001b[1;33m\u001b[0m\u001b[0m\n\u001b[0;32m    133\u001b[0m     \"\"\"\n\u001b[1;32m--> 134\u001b[1;33m     \u001b[0mconfig\u001b[0m \u001b[1;33m=\u001b[0m \u001b[0mconfig\u001b[0m \u001b[1;32mor\u001b[0m \u001b[0mget_config\u001b[0m\u001b[1;33m(\u001b[0m\u001b[1;33m)\u001b[0m\u001b[1;33m\u001b[0m\u001b[1;33m\u001b[0m\u001b[0m\n\u001b[0m\u001b[0;32m    135\u001b[0m     \u001b[1;32mtry\u001b[0m\u001b[1;33m:\u001b[0m\u001b[1;33m\u001b[0m\u001b[1;33m\u001b[0m\u001b[0m\n\u001b[0;32m    136\u001b[0m         \u001b[1;32mif\u001b[0m \u001b[1;34m\"private_key_id\"\u001b[0m \u001b[1;32min\u001b[0m \u001b[0mconfig\u001b[0m\u001b[1;33m:\u001b[0m\u001b[1;33m\u001b[0m\u001b[1;33m\u001b[0m\u001b[0m\n",
      "\u001b[1;32m~\\Anaconda3\\lib\\site-packages\\gspread_pandas\\conf.py\u001b[0m in \u001b[0;36mget_config\u001b[1;34m(conf_dir, file_name)\u001b[0m\n\u001b[0;32m     90\u001b[0m             \u001b[1;34m\"Please download json from \"\u001b[0m\u001b[1;33m\u001b[0m\u001b[1;33m\u001b[0m\u001b[0m\n\u001b[0;32m     91\u001b[0m             \u001b[1;34m\"https://console.developers.google.com/apis/credentials and \"\u001b[0m\u001b[1;33m\u001b[0m\u001b[1;33m\u001b[0m\u001b[0m\n\u001b[1;32m---> 92\u001b[1;33m             \u001b[1;34m\"save as {}\"\u001b[0m\u001b[1;33m.\u001b[0m\u001b[0mformat\u001b[0m\u001b[1;33m(\u001b[0m\u001b[0mcfg_file\u001b[0m\u001b[1;33m)\u001b[0m\u001b[1;33m\u001b[0m\u001b[1;33m\u001b[0m\u001b[0m\n\u001b[0m\u001b[0;32m     93\u001b[0m         )\n\u001b[0;32m     94\u001b[0m \u001b[1;33m\u001b[0m\u001b[0m\n",
      "\u001b[1;31mOSError\u001b[0m: No Google client config found.\nPlease download json from https://console.developers.google.com/apis/credentials and save as C:\\Users\\New User\\AppData\\Roaming\\gspread_pandas\\google_secret.json"
     ]
    }
   ],
   "source": [
    "from __future__ import print_function\n",
    "import pandas as pd\n",
    "from gspread_pandas import Spread, Client\n",
    "\n",
    "#file_name = \"http://stats.idre.ucla.edu/stat/data/binary.csv\"\n",
    "#df = pd.read_csv(file_name)\n",
    "\n",
    "# 'Example Spreadsheet' needs to already exist and your user must have access to it\n",
    "spread = Spread('Test_SF')\n",
    "# This will ask to authenticate if you haven't done so before\n",
    "\n",
    "# Display available worksheets\n",
    "spread.sheets"
   ]
  }
 ],
 "metadata": {
  "kernelspec": {
   "display_name": "Python 3",
   "language": "python",
   "name": "python3"
  },
  "language_info": {
   "codemirror_mode": {
    "name": "ipython",
    "version": 3
   },
   "file_extension": ".py",
   "mimetype": "text/x-python",
   "name": "python",
   "nbconvert_exporter": "python",
   "pygments_lexer": "ipython3",
   "version": "3.7.3"
  }
 },
 "nbformat": 4,
 "nbformat_minor": 2
}
