{
 "cells": [
  {
   "cell_type": "code",
   "execution_count": 25,
   "metadata": {
    "scrolled": true
   },
   "outputs": [
    {
     "name": "stdout",
     "output_type": "stream",
     "text": [
      "          name  colour  price_used  quantity\n",
      "0        Apple     red        0.88         3\n",
      "1       Banana  Yellow        0.23         2\n",
      "2       Orange  Orange        0.68         2\n",
      "3   Watermelon   Green        3.98         1\n",
      "4         Plum  Purple        0.96         0\n",
      "5  Blueberries    Blue        5.16         1\n",
      "6  Dragonfruit    Pink        5.27         2\n",
      "7         Kiwi   Brown        1.12         3\n",
      "         name  colour  price_used  quantity\n",
      "0       Apple     red        0.88         3\n",
      "1      Banana  Yellow        0.23         2\n",
      "2      Orange  Orange        0.68         2\n",
      "3  Watermelon   Green        3.98         1\n",
      "4        Plum  Purple        0.96         0\n",
      "     name  colour  price_used  quantity\n",
      "0   Apple     red        0.88         3\n",
      "1  Banana  Yellow        0.23         2\n"
     ]
    }
   ],
   "source": [
    "import pandas as pd\n",
    "\n",
    "fruit = pd.read_excel('fruit.xlsx', index = 0)\n",
    "\n",
    "print(fruit)\n",
    "\n",
    "#To print first five rows\n",
    "\n",
    "print(fruit.head())\n",
    "\n",
    "\n",
    "#To print first two rows\n",
    "print(fruit.head(2))"
   ]
  },
  {
   "cell_type": "code",
   "execution_count": 26,
   "metadata": {
    "scrolled": true
   },
   "outputs": [
    {
     "data": {
      "text/html": [
       "<div>\n",
       "<style scoped>\n",
       "    .dataframe tbody tr th:only-of-type {\n",
       "        vertical-align: middle;\n",
       "    }\n",
       "\n",
       "    .dataframe tbody tr th {\n",
       "        vertical-align: top;\n",
       "    }\n",
       "\n",
       "    .dataframe thead th {\n",
       "        text-align: right;\n",
       "    }\n",
       "</style>\n",
       "<table border=\"1\" class=\"dataframe\">\n",
       "  <thead>\n",
       "    <tr style=\"text-align: right;\">\n",
       "      <th></th>\n",
       "      <th>name</th>\n",
       "      <th>colour</th>\n",
       "      <th>price_used</th>\n",
       "      <th>quantity</th>\n",
       "    </tr>\n",
       "  </thead>\n",
       "  <tbody>\n",
       "    <tr>\n",
       "      <th>0</th>\n",
       "      <td>Apple</td>\n",
       "      <td>red</td>\n",
       "      <td>0.88</td>\n",
       "      <td>3</td>\n",
       "    </tr>\n",
       "    <tr>\n",
       "      <th>1</th>\n",
       "      <td>Banana</td>\n",
       "      <td>Yellow</td>\n",
       "      <td>0.23</td>\n",
       "      <td>2</td>\n",
       "    </tr>\n",
       "    <tr>\n",
       "      <th>2</th>\n",
       "      <td>Orange</td>\n",
       "      <td>Orange</td>\n",
       "      <td>0.68</td>\n",
       "      <td>2</td>\n",
       "    </tr>\n",
       "    <tr>\n",
       "      <th>3</th>\n",
       "      <td>Watermelon</td>\n",
       "      <td>Green</td>\n",
       "      <td>3.98</td>\n",
       "      <td>1</td>\n",
       "    </tr>\n",
       "    <tr>\n",
       "      <th>4</th>\n",
       "      <td>Plum</td>\n",
       "      <td>Purple</td>\n",
       "      <td>0.96</td>\n",
       "      <td>0</td>\n",
       "    </tr>\n",
       "    <tr>\n",
       "      <th>5</th>\n",
       "      <td>Blueberries</td>\n",
       "      <td>Blue</td>\n",
       "      <td>5.16</td>\n",
       "      <td>1</td>\n",
       "    </tr>\n",
       "    <tr>\n",
       "      <th>6</th>\n",
       "      <td>Dragonfruit</td>\n",
       "      <td>Pink</td>\n",
       "      <td>5.27</td>\n",
       "      <td>2</td>\n",
       "    </tr>\n",
       "    <tr>\n",
       "      <th>7</th>\n",
       "      <td>Kiwi</td>\n",
       "      <td>Brown</td>\n",
       "      <td>1.12</td>\n",
       "      <td>3</td>\n",
       "    </tr>\n",
       "  </tbody>\n",
       "</table>\n",
       "</div>"
      ],
      "text/plain": [
       "          name  colour  price_used  quantity\n",
       "0        Apple     red        0.88         3\n",
       "1       Banana  Yellow        0.23         2\n",
       "2       Orange  Orange        0.68         2\n",
       "3   Watermelon   Green        3.98         1\n",
       "4         Plum  Purple        0.96         0\n",
       "5  Blueberries    Blue        5.16         1\n",
       "6  Dragonfruit    Pink        5.27         2\n",
       "7         Kiwi   Brown        1.12         3"
      ]
     },
     "execution_count": 26,
     "metadata": {},
     "output_type": "execute_result"
    }
   ],
   "source": [
    "#By Default, Sort is ascending order\n",
    "\n",
    "#Sort by column name\n",
    "fruit.sort_values('name')\n",
    "\n",
    "\n",
    "#Sort by column name 'price_used' in descending order\n",
    "fruit.sort_values('price_used', ascending = False)\n",
    "\n",
    "\n",
    "#Reset Index\n",
    "fruit.reset_index(drop = True)"
   ]
  },
  {
   "cell_type": "code",
   "execution_count": 27,
   "metadata": {},
   "outputs": [
    {
     "data": {
      "text/plain": [
       "0     True\n",
       "1    False\n",
       "2    False\n",
       "3    False\n",
       "4    False\n",
       "5    False\n",
       "6    False\n",
       "7    False\n",
       "Name: name, dtype: bool"
      ]
     },
     "execution_count": 27,
     "metadata": {},
     "output_type": "execute_result"
    }
   ],
   "source": [
    "#Accessing a single column\n",
    "fruit['name']\n",
    "\n",
    "#Check values of a column with specific condition\n",
    "\n",
    "fruit['name'] == \"Apple\"\n",
    "\n",
    "\n",
    "#Please not, In Python filter text in case sensitive, So Capital A is necessary in \"Apple\" Columnb\n"
   ]
  },
  {
   "cell_type": "code",
   "execution_count": 28,
   "metadata": {
    "scrolled": true
   },
   "outputs": [
    {
     "data": {
      "text/html": [
       "<div>\n",
       "<style scoped>\n",
       "    .dataframe tbody tr th:only-of-type {\n",
       "        vertical-align: middle;\n",
       "    }\n",
       "\n",
       "    .dataframe tbody tr th {\n",
       "        vertical-align: top;\n",
       "    }\n",
       "\n",
       "    .dataframe thead th {\n",
       "        text-align: right;\n",
       "    }\n",
       "</style>\n",
       "<table border=\"1\" class=\"dataframe\">\n",
       "  <thead>\n",
       "    <tr style=\"text-align: right;\">\n",
       "      <th></th>\n",
       "      <th>name</th>\n",
       "      <th>colour</th>\n",
       "      <th>price_used</th>\n",
       "      <th>quantity</th>\n",
       "    </tr>\n",
       "  </thead>\n",
       "  <tbody>\n",
       "    <tr>\n",
       "      <th>0</th>\n",
       "      <td>Watermelon</td>\n",
       "      <td>Green</td>\n",
       "      <td>3.98</td>\n",
       "      <td>1</td>\n",
       "    </tr>\n",
       "    <tr>\n",
       "      <th>1</th>\n",
       "      <td>Blueberries</td>\n",
       "      <td>Blue</td>\n",
       "      <td>5.16</td>\n",
       "      <td>1</td>\n",
       "    </tr>\n",
       "    <tr>\n",
       "      <th>2</th>\n",
       "      <td>Dragonfruit</td>\n",
       "      <td>Pink</td>\n",
       "      <td>5.27</td>\n",
       "      <td>2</td>\n",
       "    </tr>\n",
       "    <tr>\n",
       "      <th>3</th>\n",
       "      <td>Kiwi</td>\n",
       "      <td>Brown</td>\n",
       "      <td>1.12</td>\n",
       "      <td>3</td>\n",
       "    </tr>\n",
       "  </tbody>\n",
       "</table>\n",
       "</div>"
      ],
      "text/plain": [
       "          name colour  price_used  quantity\n",
       "0   Watermelon  Green        3.98         1\n",
       "1  Blueberries   Blue        5.16         1\n",
       "2  Dragonfruit   Pink        5.27         2\n",
       "3         Kiwi  Brown        1.12         3"
      ]
     },
     "execution_count": 28,
     "metadata": {},
     "output_type": "execute_result"
    }
   ],
   "source": [
    "#To filter price_used value greater than 1\n",
    "fruit[fruit['price_used'] > 1]\n",
    "\n",
    "\n",
    "#To filter price_used value greater than 1 and reset index\n",
    "fruit[fruit['price_used'] > 1].reset_index(drop = True)\n"
   ]
  },
  {
   "cell_type": "code",
   "execution_count": 29,
   "metadata": {
    "scrolled": true
   },
   "outputs": [
    {
     "data": {
      "text/html": [
       "<div>\n",
       "<style scoped>\n",
       "    .dataframe tbody tr th:only-of-type {\n",
       "        vertical-align: middle;\n",
       "    }\n",
       "\n",
       "    .dataframe tbody tr th {\n",
       "        vertical-align: top;\n",
       "    }\n",
       "\n",
       "    .dataframe thead th {\n",
       "        text-align: right;\n",
       "    }\n",
       "</style>\n",
       "<table border=\"1\" class=\"dataframe\">\n",
       "  <thead>\n",
       "    <tr style=\"text-align: right;\">\n",
       "      <th></th>\n",
       "      <th>name</th>\n",
       "      <th>colour</th>\n",
       "      <th>price_used</th>\n",
       "      <th>quantity</th>\n",
       "    </tr>\n",
       "  </thead>\n",
       "  <tbody>\n",
       "    <tr>\n",
       "      <th>0</th>\n",
       "      <td>Apple</td>\n",
       "      <td>red</td>\n",
       "      <td>0.88</td>\n",
       "      <td>3</td>\n",
       "    </tr>\n",
       "    <tr>\n",
       "      <th>1</th>\n",
       "      <td>Banana</td>\n",
       "      <td>Yellow</td>\n",
       "      <td>0.23</td>\n",
       "      <td>2</td>\n",
       "    </tr>\n",
       "    <tr>\n",
       "      <th>2</th>\n",
       "      <td>Orange</td>\n",
       "      <td>Orange</td>\n",
       "      <td>0.68</td>\n",
       "      <td>2</td>\n",
       "    </tr>\n",
       "    <tr>\n",
       "      <th>4</th>\n",
       "      <td>Plum</td>\n",
       "      <td>Purple</td>\n",
       "      <td>0.96</td>\n",
       "      <td>0</td>\n",
       "    </tr>\n",
       "  </tbody>\n",
       "</table>\n",
       "</div>"
      ],
      "text/plain": [
       "     name  colour  price_used  quantity\n",
       "0   Apple     red        0.88         3\n",
       "1  Banana  Yellow        0.23         2\n",
       "2  Orange  Orange        0.68         2\n",
       "4    Plum  Purple        0.96         0"
      ]
     },
     "execution_count": 29,
     "metadata": {},
     "output_type": "execute_result"
    }
   ],
   "source": [
    "#To filter price_used value less than 1\n",
    "fruit[fruit['price_used'] < 1]"
   ]
  },
  {
   "cell_type": "code",
   "execution_count": 33,
   "metadata": {},
   "outputs": [
    {
     "name": "stdout",
     "output_type": "stream",
     "text": [
      "          name  colour  price_used  quantity   cost  old_cost\n",
      "0        Apple     red        0.88         3   2.64      1.76\n",
      "1       Banana  Yellow        0.23         2   0.46      0.46\n",
      "2       Orange  Orange        0.68         2   1.36      1.36\n",
      "3   Watermelon   Green        3.98         1   3.98      7.96\n",
      "4         Plum  Purple        0.96         0   0.00      1.92\n",
      "5  Blueberries    Blue        5.16         1   5.16     10.32\n",
      "6  Dragonfruit    Pink        5.27         2  10.54     10.54\n",
      "7         Kiwi   Brown        1.12         3   3.36      2.24\n",
      "          name  colour  price_used  quantity   cost  old_cost\n",
      "0        Apple     red        0.88         3   2.64      1.76\n",
      "1       Banana  Yellow        0.23         2   0.46      0.46\n",
      "2       Orange  Orange        0.68         2   1.36      1.36\n",
      "3   Watermelon   Green        3.98         1   3.98      7.96\n",
      "4         Plum  Purple        0.96         0   0.00      1.92\n",
      "5  Blueberries    Blue        5.16         1   5.16     10.32\n",
      "6  Dragonfruit    Pink        5.27         2  10.54     10.54\n",
      "7         Kiwi   Brown        1.12         3   3.36      2.24\n"
     ]
    }
   ],
   "source": [
    "#Create a new column \"old_cost\" which is (\"price_used\" * 2) in every row\n",
    "\n",
    "fruit['old_cost'] = fruit['price_used'] * 2\n",
    "\n",
    "\n",
    "print(fruit)\n",
    "\n",
    "\n",
    "#Create a new column \"cost\" which is (\"price_used\" * quantity) in every row\n",
    "\n",
    "fruit['cost'] = fruit['price_used'] * fruit['quantity']\n",
    "\n",
    "\n",
    "print(fruit)"
   ]
  }
 ],
 "metadata": {
  "kernelspec": {
   "display_name": "Python 3",
   "language": "python",
   "name": "python3"
  },
  "language_info": {
   "codemirror_mode": {
    "name": "ipython",
    "version": 3
   },
   "file_extension": ".py",
   "mimetype": "text/x-python",
   "name": "python",
   "nbconvert_exporter": "python",
   "pygments_lexer": "ipython3",
   "version": "3.7.3"
  }
 },
 "nbformat": 4,
 "nbformat_minor": 2
}
