{
 "cells": [
  {
   "cell_type": "code",
   "execution_count": 1,
   "metadata": {},
   "outputs": [
    {
     "name": "stdout",
     "output_type": "stream",
     "text": [
      "<pandas.io.excel.ExcelFile object at 0x00000186EEC09B38>\n"
     ]
    }
   ],
   "source": [
    "#Working with multiple Sheets\n",
    "\n",
    "import pandas as pd\n",
    "\n",
    "#Read workbook\n",
    "fruit_workbook = pd.ExcelFile('fruit.xlsx')\n",
    "\n",
    "print(fruit_workbook)"
   ]
  },
  {
   "cell_type": "code",
   "execution_count": 2,
   "metadata": {
    "scrolled": true
   },
   "outputs": [
    {
     "name": "stdout",
     "output_type": "stream",
     "text": [
      "['Sheet1', 'Sheet2', 'Sheet3']\n"
     ]
    }
   ],
   "source": [
    "#Get Sheet names\n",
    "fruit_sheet_names = fruit_workbook.sheet_names\n",
    "\n",
    "print(fruit_sheet_names)"
   ]
  },
  {
   "cell_type": "code",
   "execution_count": null,
   "metadata": {},
   "outputs": [],
   "source": [
    "#Attributes VS Methods\n",
    "\n",
    "#Attributes :- Tell us something\n",
    "    \n",
    "#    e.g. :- object.attribute\n",
    "#            workbook.sheet_names\n",
    "            \n",
    "            \n",
    "#Methods :- Do something for us\n",
    "    \n",
    "#    e.g. :- object.method()\n",
    "#            workbook.parse()\n",
    "            "
   ]
  },
  {
   "cell_type": "code",
   "execution_count": null,
   "metadata": {},
   "outputs": [],
   "source": [
    "#Functions :- function() or package.function()\n",
    "\n",
    "#pd.ExcelFile()"
   ]
  },
  {
   "cell_type": "code",
   "execution_count": 4,
   "metadata": {},
   "outputs": [
    {
     "name": "stdout",
     "output_type": "stream",
     "text": [
      "          name  price_used  quantity\n",
      "0        Apple        0.88         3\n",
      "1       Banana        0.23         2\n",
      "2       Orange        0.68         2\n",
      "3   Watermelon        3.98         1\n",
      "4         Plum        0.96         0\n",
      "5  Blueberries        5.16         1\n",
      "6  Dragonfruit        5.27         2\n",
      "7         Kiwi        1.12         3\n"
     ]
    }
   ],
   "source": [
    "#Parse Sheet1 tab (That store Sheet1 Tab Data into Python Dataframe)\n",
    "\n",
    "fruit_prices = fruit_workbook.parse('Sheet1')\n",
    "\n",
    "print(fruit_prices)"
   ]
  }
 ],
 "metadata": {
  "kernelspec": {
   "display_name": "Python 3",
   "language": "python",
   "name": "python3"
  },
  "language_info": {
   "codemirror_mode": {
    "name": "ipython",
    "version": 3
   },
   "file_extension": ".py",
   "mimetype": "text/x-python",
   "name": "python",
   "nbconvert_exporter": "python",
   "pygments_lexer": "ipython3",
   "version": "3.7.3"
  }
 },
 "nbformat": 4,
 "nbformat_minor": 2
}
