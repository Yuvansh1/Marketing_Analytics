{
 "cells": [
  {
   "cell_type": "code",
   "execution_count": 3,
   "metadata": {},
   "outputs": [
    {
     "name": "stdout",
     "output_type": "stream",
     "text": [
      "<pandas.io.excel.ExcelFile object at 0x000001C7E06AB5F8>\n"
     ]
    }
   ],
   "source": [
    "#Working with multiple Sheets\n",
    "\n",
    "import pandas as pd\n",
    "\n",
    "#Read workbook\n",
    "fruit_workbook = pd.ExcelFile('fruit.xlsx')\n",
    "\n",
    "print(fruit_workbook)"
   ]
  },
  {
   "cell_type": "code",
   "execution_count": 4,
   "metadata": {
    "scrolled": true
   },
   "outputs": [
    {
     "name": "stdout",
     "output_type": "stream",
     "text": [
      "['Sheet1', 'Sheet2', 'Sheet3']\n"
     ]
    }
   ],
   "source": [
    "#Get Sheet names\n",
    "fruit_sheet_names = fruit_workbook.sheet_names\n",
    "\n",
    "print(fruit_sheet_names)"
   ]
  },
  {
   "cell_type": "code",
   "execution_count": null,
   "metadata": {},
   "outputs": [],
   "source": [
    "#Attributes VS Methods\n",
    "\n",
    "#Attributes :- Tell us something\n",
    "    \n",
    "#    e.g. :- object.attribute\n",
    "#            workbook.sheet_names\n",
    "            \n",
    "            \n",
    "#Methods :- Do something for us\n",
    "    \n",
    "#    e.g. :- object.method()\n",
    "#            workbook.parse()\n",
    "            "
   ]
  },
  {
   "cell_type": "code",
   "execution_count": null,
   "metadata": {},
   "outputs": [],
   "source": [
    "#Functions :- function() or package.function()\n",
    "\n",
    "#pd.ExcelFile()"
   ]
  },
  {
   "cell_type": "code",
   "execution_count": 5,
   "metadata": {
    "scrolled": true
   },
   "outputs": [
    {
     "name": "stdout",
     "output_type": "stream",
     "text": [
      "          name  price_used  quantity\n",
      "0        Apple        0.88         3\n",
      "1       Banana        0.23         2\n",
      "2       Orange        0.68         2\n",
      "3   Watermelon        3.98         1\n",
      "4         Plum        0.96         0\n",
      "5  Blueberries        5.16         1\n",
      "6  Dragonfruit        5.27         2\n",
      "7         Kiwi        1.12         3\n"
     ]
    }
   ],
   "source": [
    "#Parse Sheet1 tab (That store Sheet1 Tab Data into Python Dataframe)\n",
    "\n",
    "fruit_prices = fruit_workbook.parse('Sheet1')\n",
    "\n",
    "print(fruit_prices)"
   ]
  },
  {
   "cell_type": "code",
   "execution_count": 6,
   "metadata": {
    "scrolled": true
   },
   "outputs": [
    {
     "data": {
      "text/plain": [
       "0          apple\n",
       "1         banana\n",
       "2         orange\n",
       "3     watermelon\n",
       "4           plum\n",
       "5    blueberries\n",
       "6    dragonfruit\n",
       "7           kiwi\n",
       "Name: name, dtype: object"
      ]
     },
     "execution_count": 6,
     "metadata": {},
     "output_type": "execute_result"
    }
   ],
   "source": [
    "#To print column in upper case\n",
    "\n",
    "fruit_prices['name'].str.title()\n",
    "\n",
    "\n",
    "#To print column in upper case\n",
    "fruit_prices['name'].str.upper()\n",
    "\n",
    "#To print column in lower case\n",
    "fruit_prices['name'].str.lower()\n"
   ]
  },
  {
   "cell_type": "code",
   "execution_count": 7,
   "metadata": {
    "scrolled": true
   },
   "outputs": [
    {
     "data": {
      "text/plain": [
       "0          Apple\n",
       "1         Banana\n",
       "2         Orange\n",
       "3     Watermelon\n",
       "4           Plum\n",
       "5    Blueberries\n",
       "6    Dragonfruit\n",
       "7           Kiwi\n",
       "Name: name, dtype: object"
      ]
     },
     "execution_count": 7,
     "metadata": {},
     "output_type": "execute_result"
    }
   ],
   "source": [
    "#To remove Leading and Trailing Spaces\n",
    "\n",
    "fruit_prices['name'].str.strip()"
   ]
  },
  {
   "cell_type": "code",
   "execution_count": 8,
   "metadata": {
    "scrolled": true
   },
   "outputs": [
    {
     "data": {
      "text/html": [
       "<div>\n",
       "<style scoped>\n",
       "    .dataframe tbody tr th:only-of-type {\n",
       "        vertical-align: middle;\n",
       "    }\n",
       "\n",
       "    .dataframe tbody tr th {\n",
       "        vertical-align: top;\n",
       "    }\n",
       "\n",
       "    .dataframe thead th {\n",
       "        text-align: right;\n",
       "    }\n",
       "</style>\n",
       "<table border=\"1\" class=\"dataframe\">\n",
       "  <thead>\n",
       "    <tr style=\"text-align: right;\">\n",
       "      <th></th>\n",
       "      <th>name</th>\n",
       "      <th>quantity</th>\n",
       "    </tr>\n",
       "  </thead>\n",
       "  <tbody>\n",
       "    <tr>\n",
       "      <th>0</th>\n",
       "      <td>Apple</td>\n",
       "      <td>3</td>\n",
       "    </tr>\n",
       "    <tr>\n",
       "      <th>1</th>\n",
       "      <td>Banana</td>\n",
       "      <td>2</td>\n",
       "    </tr>\n",
       "    <tr>\n",
       "      <th>2</th>\n",
       "      <td>Orange</td>\n",
       "      <td>2</td>\n",
       "    </tr>\n",
       "    <tr>\n",
       "      <th>3</th>\n",
       "      <td>Watermelon</td>\n",
       "      <td>1</td>\n",
       "    </tr>\n",
       "    <tr>\n",
       "      <th>4</th>\n",
       "      <td>Plum</td>\n",
       "      <td>0</td>\n",
       "    </tr>\n",
       "    <tr>\n",
       "      <th>5</th>\n",
       "      <td>Blueberries</td>\n",
       "      <td>1</td>\n",
       "    </tr>\n",
       "    <tr>\n",
       "      <th>6</th>\n",
       "      <td>Dragonfruit</td>\n",
       "      <td>2</td>\n",
       "    </tr>\n",
       "    <tr>\n",
       "      <th>7</th>\n",
       "      <td>Kiwi</td>\n",
       "      <td>3</td>\n",
       "    </tr>\n",
       "  </tbody>\n",
       "</table>\n",
       "</div>"
      ],
      "text/plain": [
       "          name  quantity\n",
       "0        Apple         3\n",
       "1       Banana         2\n",
       "2       Orange         2\n",
       "3   Watermelon         1\n",
       "4         Plum         0\n",
       "5  Blueberries         1\n",
       "6  Dragonfruit         2\n",
       "7         Kiwi         3"
      ]
     },
     "execution_count": 8,
     "metadata": {},
     "output_type": "execute_result"
    }
   ],
   "source": [
    "#To drop a column (we will drop price_used column)\n",
    "\n",
    "fruit_prices.drop('price_used', axis = 1)"
   ]
  },
  {
   "cell_type": "code",
   "execution_count": 9,
   "metadata": {},
   "outputs": [],
   "source": [
    "#We will make to new Dataframe, after that use .merge() to join them (maybe left or right)\n",
    "fruit_prices_new = fruit_prices.drop('quantity', axis = 1)\n",
    "\n",
    "fruit_quantity_new = fruit_prices.drop('price_used', axis = 1)"
   ]
  },
  {
   "cell_type": "code",
   "execution_count": 12,
   "metadata": {
    "scrolled": true
   },
   "outputs": [],
   "source": [
    "#The vlookup method in Python (using .merge())\n",
    "\n",
    "#Left Join\n",
    "fruit_price_quantity_merge = fruit_prices_new.merge(fruit_quantity_new, on = 'name', how = 'left')\n",
    "\n",
    "\n",
    "\n",
    "#If join column names are different, then we will use this\n",
    "\n",
    "fruit_price_quantity_merge = fruit_prices_new.merge(fruit_quantity_new, left_on = 'name', right_on = 'quantity_name', how = 'left')\n"
   ]
  },
  {
   "cell_type": "code",
   "execution_count": 14,
   "metadata": {
    "scrolled": true
   },
   "outputs": [
    {
     "data": {
      "text/html": [
       "<div>\n",
       "<style scoped>\n",
       "    .dataframe tbody tr th:only-of-type {\n",
       "        vertical-align: middle;\n",
       "    }\n",
       "\n",
       "    .dataframe tbody tr th {\n",
       "        vertical-align: top;\n",
       "    }\n",
       "\n",
       "    .dataframe thead th {\n",
       "        text-align: right;\n",
       "    }\n",
       "</style>\n",
       "<table border=\"1\" class=\"dataframe\">\n",
       "  <thead>\n",
       "    <tr style=\"text-align: right;\">\n",
       "      <th></th>\n",
       "      <th>name</th>\n",
       "      <th>price_used</th>\n",
       "      <th>quantity</th>\n",
       "      <th>total_price_with_quantity</th>\n",
       "    </tr>\n",
       "  </thead>\n",
       "  <tbody>\n",
       "    <tr>\n",
       "      <th>0</th>\n",
       "      <td>Apple</td>\n",
       "      <td>0.88</td>\n",
       "      <td>3</td>\n",
       "      <td>2.64</td>\n",
       "    </tr>\n",
       "    <tr>\n",
       "      <th>1</th>\n",
       "      <td>Banana</td>\n",
       "      <td>0.23</td>\n",
       "      <td>2</td>\n",
       "      <td>0.46</td>\n",
       "    </tr>\n",
       "    <tr>\n",
       "      <th>2</th>\n",
       "      <td>Orange</td>\n",
       "      <td>0.68</td>\n",
       "      <td>2</td>\n",
       "      <td>1.36</td>\n",
       "    </tr>\n",
       "    <tr>\n",
       "      <th>3</th>\n",
       "      <td>Watermelon</td>\n",
       "      <td>3.98</td>\n",
       "      <td>1</td>\n",
       "      <td>3.98</td>\n",
       "    </tr>\n",
       "    <tr>\n",
       "      <th>4</th>\n",
       "      <td>Plum</td>\n",
       "      <td>0.96</td>\n",
       "      <td>0</td>\n",
       "      <td>0.00</td>\n",
       "    </tr>\n",
       "  </tbody>\n",
       "</table>\n",
       "</div>"
      ],
      "text/plain": [
       "         name  price_used  quantity  total_price_with_quantity\n",
       "0       Apple        0.88         3                       2.64\n",
       "1      Banana        0.23         2                       0.46\n",
       "2      Orange        0.68         2                       1.36\n",
       "3  Watermelon        3.98         1                       3.98\n",
       "4        Plum        0.96         0                       0.00"
      ]
     },
     "execution_count": 14,
     "metadata": {},
     "output_type": "execute_result"
    }
   ],
   "source": [
    "#Add new column in Dataframe\n",
    "\n",
    "fruit_price_quantity_merge['total_price_with_quantity'] = fruit_price_quantity_merge['price_used'] * fruit_price_quantity_merge['quantity']\n",
    "\n",
    "fruit_price_quantity_merge.head()"
   ]
  },
  {
   "cell_type": "code",
   "execution_count": null,
   "metadata": {},
   "outputs": [],
   "source": [
    "#Put all together at the end of Exercise3\n",
    "\n",
    "\n",
    "# Merge transaction data with the movie data on movie_title\n",
    "transactions_with_genres = transactions.merge(movies, on = 'movie_title', how = 'left')\n",
    "\n",
    "# Group by movie_genre and call the sum method\n",
    "genre_summary = transactions_with_genres.groupby('movie_genre', as_index=False).sum()\n",
    "\n",
    "# Sort the genre summary by ticket_quantity\n",
    "genre_summary_sorted = genre_summary.sort_values('ticket_quantity', ascending=False).reset_index(drop=True)\n",
    "\n",
    "# View the summary\n",
    "print(genre_summary_sorted)"
   ]
  }
 ],
 "metadata": {
  "kernelspec": {
   "display_name": "Python 3",
   "language": "python",
   "name": "python3"
  },
  "language_info": {
   "codemirror_mode": {
    "name": "ipython",
    "version": 3
   },
   "file_extension": ".py",
   "mimetype": "text/x-python",
   "name": "python",
   "nbconvert_exporter": "python",
   "pygments_lexer": "ipython3",
   "version": "3.7.3"
  }
 },
 "nbformat": 4,
 "nbformat_minor": 2
}
