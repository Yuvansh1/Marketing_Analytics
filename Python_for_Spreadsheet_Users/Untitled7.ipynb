{
 "cells": [
  {
   "cell_type": "code",
   "execution_count": null,
   "metadata": {},
   "outputs": [],
   "source": [
    "import os\n",
    "import tempfile\n",
    "from pdf2image import convert_from_path\n",
    " \n",
    "filename = 'C:/Users/New User/Downloads/spreashe.pdf'\n",
    " \n",
    "with tempfile.TemporaryDirectory() as path:\n",
    "     images_from_path = convert_from_path(filename, output_folder=path, last_page=1, first_page =0)\n",
    " \n",
    "base_filename  =  os.path.splitext(os.path.basename(filename))[0] + '.jpg'     \n",
    " \n",
    "save_dir = 'C:/Users/New User/Downloads'\n",
    " \n",
    "for page in images_from_path:\n",
    "    page.save(os.path.join(save_dir, base_filename), 'JPEG')"
   ]
  },
  {
   "cell_type": "code",
   "execution_count": null,
   "metadata": {},
   "outputs": [],
   "source": []
  }
 ],
 "metadata": {
  "kernelspec": {
   "display_name": "Python 3",
   "language": "python",
   "name": "python3"
  },
  "language_info": {
   "codemirror_mode": {
    "name": "ipython",
    "version": 3
   },
   "file_extension": ".py",
   "mimetype": "text/x-python",
   "name": "python",
   "nbconvert_exporter": "python",
   "pygments_lexer": "ipython3",
   "version": "3.7.3"
  }
 },
 "nbformat": 4,
 "nbformat_minor": 2
}
