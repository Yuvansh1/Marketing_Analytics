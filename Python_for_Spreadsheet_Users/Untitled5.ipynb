{
 "cells": [
  {
   "cell_type": "code",
   "execution_count": null,
   "metadata": {},
   "outputs": [],
   "source": [
    "#How visualisation works in python"
   ]
  },
  {
   "cell_type": "code",
   "execution_count": 1,
   "metadata": {},
   "outputs": [],
   "source": [
    "import seaborn as sns\n",
    "import matplotlib.pyplot as plt\n",
    "import pandas as pd"
   ]
  },
  {
   "cell_type": "code",
   "execution_count": 4,
   "metadata": {
    "scrolled": true
   },
   "outputs": [
    {
     "name": "stdout",
     "output_type": "stream",
     "text": [
      "          name  price_used  quantity\n",
      "0        Apple        0.88         3\n",
      "1       Banana        0.23         2\n",
      "2       Orange        0.68         2\n",
      "3   Watermelon        3.98         1\n",
      "4         Plum        0.96         0\n",
      "5  Blueberries        5.16         1\n",
      "6  Dragonfruit        5.27         2\n",
      "7         Kiwi        1.12         3\n"
     ]
    },
    {
     "data": {
      "image/png": "[encoded data removed]",
      "text/plain": [
       "<Figure size 432x288 with 1 Axes>"
      ]
     },
     "metadata": {
      "needs_background": "light"
     },
     "output_type": "display_data"
    }
   ],
   "source": [
    "#Read csv\n",
    "fruit_sales = pd.read_excel('fruit.xlsx')\n",
    "\n",
    "print(fruit_sales)\n",
    "\n",
    "\n",
    "#plot bargraph using seaborn barplot\n",
    "\n",
    "sns.barplot(x = 'name', y = 'quantity', data = fruit_sales)\n",
    "plt.show()"
   ]
  },
  {
   "cell_type": "code",
   "execution_count": null,
   "metadata": {},
   "outputs": [],
   "source": []
  }
 ],
 "metadata": {
  "kernelspec": {
   "display_name": "Python 3",
   "language": "python",
   "name": "python3"
  },
  "language_info": {
   "codemirror_mode": {
    "name": "ipython",
    "version": 3
   },
   "file_extension": ".py",
   "mimetype": "text/x-python",
   "name": "python",
   "nbconvert_exporter": "python",
   "pygments_lexer": "ipython3",
   "version": "3.7.3"
  }
 },
 "nbformat": 4,
 "nbformat_minor": 2
}
