{
 "cells": [
  {
   "cell_type": "code",
   "execution_count": 1,
   "metadata": {},
   "outputs": [],
   "source": [
    "#Was the Marketing Campaign Successful\n",
    "\n",
    "#Common Metrices:- \n",
    "\n",
    "#1. Conversion Rate\n",
    "\n",
    "#2. Retention Rate\n",
    "\n",
    "#Conversion Rate = number of people who convert / Total number of people we marked to\n",
    "\n",
    "#Retention Rate = Number of People who remain subscribed / Total number of people who converted"
   ]
  },
  {
   "cell_type": "code",
   "execution_count": null,
   "metadata": {},
   "outputs": [],
   "source": [
    "subscribers = marketing[marketing['converted'] == True]['user_id'].nunique()\n",
    "\n",
    "\n",
    "total = marketing['user_id'].nunique()"
   ]
  },
  {
   "cell_type": "code",
   "execution_count": null,
   "metadata": {},
   "outputs": [],
   "source": [
    "conv_rate = subscribers / total\n",
    "\n",
    "print(round(conv_rate*100, 2),'%')"
   ]
  },
  {
   "cell_type": "code",
   "execution_count": null,
   "metadata": {},
   "outputs": [],
   "source": [
    "retained = marketing[marketing['is_retained'] == True]['user_id'].nunique()\n",
    "\n",
    "\n",
    "retention = retained / subscribers\n",
    "\n",
    "print(round(retention*100, 2), '%')"
   ]
  },
  {
   "cell_type": "code",
   "execution_count": 8,
   "metadata": {},
   "outputs": [],
   "source": [
    "#Common ways to segment audiences\n",
    "\n",
    "#1. Age\n",
    "\n",
    "#2. Gender\n",
    "\n",
    "#3. Location\n",
    "\n",
    "#Past interaction(s) with the business\n",
    "\n",
    "#Marketing Channels users interacted with"
   ]
  },
  {
   "cell_type": "code",
   "execution_count": null,
   "metadata": {},
   "outputs": [],
   "source": [
    "#Subset to include only House Ads\n",
    "\n",
    "house_ads = marketing[marketing['subscribing_channel'] == 'House Ads']\n",
    "\n",
    "retained = house_ads[house_ads['is_retained'] == True]['user_id'].nunique()\n",
    "\n",
    "subscribers = house_ads[house_ads['converted'] == True]['user_id'].nunique()\n",
    "\n",
    "\n",
    "retention_rate = retained / subscribers\n",
    "\n",
    "print(round(retention_rate*100, 2), '%')\n",
    "\n",
    "\n",
    "#But This method is tedious or boring"
   ]
  },
  {
   "cell_type": "code",
   "execution_count": null,
   "metadata": {},
   "outputs": [],
   "source": [
    "#Segmenting using pandas - groupby()\n",
    "\n",
    "#Group by subsribing_channel and calculate retention\n",
    "\n",
    "retained = marketing[marketing['is_retained'] == True].groupby(['subscribing_channel'])['user_id'].nunique()\n",
    "\n",
    "print(retained)\n",
    "\n",
    "\n",
    "#Group by subsribing_channel and calculate subsribers\n",
    "\n",
    "subscribers = marketing[marketing['converted'] == True].groupby(['subscribing_channel'])['user_id'].nunique()\n",
    "\n",
    "print(subscribers)\n"
   ]
  },
  {
   "cell_type": "code",
   "execution_count": null,
   "metadata": {},
   "outputs": [],
   "source": [
    "#Calculate the retention rate across the Dataframe\n",
    "\n",
    "channel_retention_rate = (retained/subscribers)*100\n",
    "\n",
    "print(channel_retention_rate)"
   ]
  },
  {
   "cell_type": "code",
   "execution_count": null,
   "metadata": {},
   "outputs": [],
   "source": []
  },
  {
   "cell_type": "code",
   "execution_count": null,
   "metadata": {},
   "outputs": [],
   "source": []
  }
 ],
 "metadata": {
  "kernelspec": {
   "display_name": "Python 3",
   "language": "python",
   "name": "python3"
  },
  "language_info": {
   "codemirror_mode": {
    "name": "ipython",
    "version": 3
   },
   "file_extension": ".py",
   "mimetype": "text/x-python",
   "name": "python",
   "nbconvert_exporter": "python",
   "pygments_lexer": "ipython3",
   "version": "3.7.3"
  }
 },
 "nbformat": 4,
 "nbformat_minor": 2
}
