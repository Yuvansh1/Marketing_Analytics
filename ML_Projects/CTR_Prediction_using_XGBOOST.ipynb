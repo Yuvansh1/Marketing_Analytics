{
  "nbformat": 4,
  "nbformat_minor": 0,
  "metadata": {
    "colab": {
      "name": "Untitled2.ipynb",
      "version": "0.3.2",
      "provenance": [],
      "include_colab_link": true
    },
    "kernelspec": {
      "name": "python3",
      "display_name": "Python 3"
    }
  },
  "cells": [
    {
      "cell_type": "markdown",
      "metadata": {
        "id": "view-in-github",
        "colab_type": "text"
      },
      "source": [
        "<a href=\"https://colab.research.google.com/github/Yuvansh1/Marketing_Analytics/blob/master/ML_Projects/CTR_Prediction_using_XGBOOST.ipynb\" target=\"_parent\"><img src=\"https://colab.research.google.com/assets/colab-badge.svg\" alt=\"Open In Colab\"/></a>"
      ]
    },
    {
      "cell_type": "markdown",
      "metadata": {
        "id": "djK6bn3XIR0H",
        "colab_type": "text"
      },
      "source": [
        "**CTR is a metric that measures the number of clicks advertisers receive on their ads per number of impressions.Mobile ads are expected to generate 1.08 billion dollar this year, which would be a 122% jump from last year.**\n"
      ]
    },
    {
      "cell_type": "markdown",
      "metadata": {
        "id": "5YXEDnYnJLwp",
        "colab_type": "text"
      },
      "source": [
        "***Goal :- Given a user and the page he (or she) is visiting. what is the probability that he (or she) will click on a given ad? The goal of this analysis is to benchmark the most accurate ML algorithms for CTR estimation.***\n"
      ]
    },
    {
      "cell_type": "code",
      "metadata": {
        "id": "GSnQI96TJ265",
        "colab_type": "code",
        "colab": {
          "resources": {
            "http://localhost:8080/nbextensions/google.colab/files.js": {
              "data": "Ly8gQ29weXJpZ2h0IDIwMTcgR29vZ2xlIExMQwovLwovLyBMaWNlbnNlZCB1bmRlciB0aGUgQXBhY2hlIExpY2Vuc2UsIFZlcnNpb24gMi4wICh0aGUgIkxpY2Vuc2UiKTsKLy8geW91IG1heSBub3QgdXNlIHRoaXMgZmlsZSBleGNlcHQgaW4gY29tcGxpYW5jZSB3aXRoIHRoZSBMaWNlbnNlLgovLyBZb3UgbWF5IG9idGFpbiBhIGNvcHkgb2YgdGhlIExpY2Vuc2UgYXQKLy8KLy8gICAgICBodHRwOi8vd3d3LmFwYWNoZS5vcmcvbGljZW5zZXMvTElDRU5TRS0yLjAKLy8KLy8gVW5sZXNzIHJlcXVpcmVkIGJ5IGFwcGxpY2FibGUgbGF3IG9yIGFncmVlZCB0byBpbiB3cml0aW5nLCBzb2Z0d2FyZQovLyBkaXN0cmlidXRlZCB1bmRlciB0aGUgTGljZW5zZSBpcyBkaXN0cmlidXRlZCBvbiBhbiAiQVMgSVMiIEJBU0lTLAovLyBXSVRIT1VUIFdBUlJBTlRJRVMgT1IgQ09ORElUSU9OUyBPRiBBTlkgS0lORCwgZWl0aGVyIGV4cHJlc3Mgb3IgaW1wbGllZC4KLy8gU2VlIHRoZSBMaWNlbnNlIGZvciB0aGUgc3BlY2lmaWMgbGFuZ3VhZ2UgZ292ZXJuaW5nIHBlcm1pc3Npb25zIGFuZAovLyBsaW1pdGF0aW9ucyB1bmRlciB0aGUgTGljZW5zZS4KCi8qKgogKiBAZmlsZW92ZXJ2aWV3IEhlbHBlcnMgZm9yIGdvb2dsZS5jb2xhYiBQeXRob24gbW9kdWxlLgogKi8KKGZ1bmN0aW9uKHNjb3BlKSB7CmZ1bmN0aW9uIHNwYW4odGV4dCwgc3R5bGVBdHRyaWJ1dGVzID0ge30pIHsKICBjb25zdCBlbGVtZW50ID0gZG9jdW1lbnQuY3JlYXRlRWxlbWVudCgnc3BhbicpOwogIGVsZW1lbnQudGV4dENvbnRlbnQgPSB0ZXh0OwogIGZvciAoY29uc3Qga2V5IG9mIE9iamVjdC5rZXlzKHN0eWxlQXR0cmlidXRlcykpIHsKICAgIGVsZW1lbnQuc3R5bGVba2V5XSA9IHN0eWxlQXR0cmlidXRlc1trZXldOwogIH0KICByZXR1cm4gZWxlbWVudDsKfQoKLy8gTWF4IG51bWJlciBvZiBieXRlcyB3aGljaCB3aWxsIGJlIHVwbG9hZGVkIGF0IGEgdGltZS4KY29uc3QgTUFYX1BBWUxPQURfU0laRSA9IDEwMCAqIDEwMjQ7Ci8vIE1heCBhbW91bnQgb2YgdGltZSB0byBibG9jayB3YWl0aW5nIGZvciB0aGUgdXNlci4KY29uc3QgRklMRV9DSEFOR0VfVElNRU9VVF9NUyA9IDMwICogMTAwMDsKCmZ1bmN0aW9uIF91cGxvYWRGaWxlcyhpbnB1dElkLCBvdXRwdXRJZCkgewogIGNvbnN0IHN0ZXBzID0gdXBsb2FkRmlsZXNTdGVwKGlucHV0SWQsIG91dHB1dElkKTsKICBjb25zdCBvdXRwdXRFbGVtZW50ID0gZG9jdW1lbnQuZ2V0RWxlbWVudEJ5SWQob3V0cHV0SWQpOwogIC8vIENhY2hlIHN0ZXBzIG9uIHRoZSBvdXRwdXRFbGVtZW50IHRvIG1ha2UgaXQgYXZhaWxhYmxlIGZvciB0aGUgbmV4dCBjYWxsCiAgLy8gdG8gdXBsb2FkRmlsZXNDb250aW51ZSBmcm9tIFB5dGhvbi4KICBvdXRwdXRFbGVtZW50LnN0ZXBzID0gc3RlcHM7CgogIHJldHVybiBfdXBsb2FkRmlsZXNDb250aW51ZShvdXRwdXRJZCk7Cn0KCi8vIFRoaXMgaXMgcm91Z2hseSBhbiBhc3luYyBnZW5lcmF0b3IgKG5vdCBzdXBwb3J0ZWQgaW4gdGhlIGJyb3dzZXIgeWV0KSwKLy8gd2hlcmUgdGhlcmUgYXJlIG11bHRpcGxlIGFzeW5jaHJvbm91cyBzdGVwcyBhbmQgdGhlIFB5dGhvbiBzaWRlIGlzIGdvaW5nCi8vIHRvIHBvbGwgZm9yIGNvbXBsZXRpb24gb2YgZWFjaCBzdGVwLgovLyBUaGlzIHVzZXMgYSBQcm9taXNlIHRvIGJsb2NrIHRoZSBweXRob24gc2lkZSBvbiBjb21wbGV0aW9uIG9mIGVhY2ggc3RlcCwKLy8gdGhlbiBwYXNzZXMgdGhlIHJlc3VsdCBvZiB0aGUgcHJldmlvdXMgc3RlcCBhcyB0aGUgaW5wdXQgdG8gdGhlIG5leHQgc3RlcC4KZnVuY3Rpb24gX3VwbG9hZEZpbGVzQ29udGludWUob3V0cHV0SWQpIHsKICBjb25zdCBvdXRwdXRFbGVtZW50ID0gZG9jdW1lbnQuZ2V0RWxlbWVudEJ5SWQob3V0cHV0SWQpOwogIGNvbnN0IHN0ZXBzID0gb3V0cHV0RWxlbWVudC5zdGVwczsKCiAgY29uc3QgbmV4dCA9IHN0ZXBzLm5leHQob3V0cHV0RWxlbWVudC5sYXN0UHJvbWlzZVZhbHVlKTsKICByZXR1cm4gUHJvbWlzZS5yZXNvbHZlKG5leHQudmFsdWUucHJvbWlzZSkudGhlbigodmFsdWUpID0+IHsKICAgIC8vIENhY2hlIHRoZSBsYXN0IHByb21pc2UgdmFsdWUgdG8gbWFrZSBpdCBhdmFpbGFibGUgdG8gdGhlIG5leHQKICAgIC8vIHN0ZXAgb2YgdGhlIGdlbmVyYXRvci4KICAgIG91dHB1dEVsZW1lbnQubGFzdFByb21pc2VWYWx1ZSA9IHZhbHVlOwogICAgcmV0dXJuIG5leHQudmFsdWUucmVzcG9uc2U7CiAgfSk7Cn0KCi8qKgogKiBHZW5lcmF0b3IgZnVuY3Rpb24gd2hpY2ggaXMgY2FsbGVkIGJldHdlZW4gZWFjaCBhc3luYyBzdGVwIG9mIHRoZSB1cGxvYWQKICogcHJvY2Vzcy4KICogQHBhcmFtIHtzdHJpbmd9IGlucHV0SWQgRWxlbWVudCBJRCBvZiB0aGUgaW5wdXQgZmlsZSBwaWNrZXIgZWxlbWVudC4KICogQHBhcmFtIHtzdHJpbmd9IG91dHB1dElkIEVsZW1lbnQgSUQgb2YgdGhlIG91dHB1dCBkaXNwbGF5LgogKiBAcmV0dXJuIHshSXRlcmFibGU8IU9iamVjdD59IEl0ZXJhYmxlIG9mIG5leHQgc3RlcHMuCiAqLwpmdW5jdGlvbiogdXBsb2FkRmlsZXNTdGVwKGlucHV0SWQsIG91dHB1dElkKSB7CiAgY29uc3QgaW5wdXRFbGVtZW50ID0gZG9jdW1lbnQuZ2V0RWxlbWVudEJ5SWQoaW5wdXRJZCk7CiAgaW5wdXRFbGVtZW50LmRpc2FibGVkID0gZmFsc2U7CgogIGNvbnN0IG91dHB1dEVsZW1lbnQgPSBkb2N1bWVudC5nZXRFbGVtZW50QnlJZChvdXRwdXRJZCk7CiAgb3V0cHV0RWxlbWVudC5pbm5lckhUTUwgPSAnJzsKCiAgY29uc3QgcGlja2VkUHJvbWlzZSA9IG5ldyBQcm9taXNlKChyZXNvbHZlKSA9PiB7CiAgICBpbnB1dEVsZW1lbnQuYWRkRXZlbnRMaXN0ZW5lcignY2hhbmdlJywgKGUpID0+IHsKICAgICAgcmVzb2x2ZShlLnRhcmdldC5maWxlcyk7CiAgICB9KTsKICB9KTsKCiAgY29uc3QgY2FuY2VsID0gZG9jdW1lbnQuY3JlYXRlRWxlbWVudCgnYnV0dG9uJyk7CiAgaW5wdXRFbGVtZW50LnBhcmVudEVsZW1lbnQuYXBwZW5kQ2hpbGQoY2FuY2VsKTsKICBjYW5jZWwudGV4dENvbnRlbnQgPSAnQ2FuY2VsIHVwbG9hZCc7CiAgY29uc3QgY2FuY2VsUHJvbWlzZSA9IG5ldyBQcm9taXNlKChyZXNvbHZlKSA9PiB7CiAgICBjYW5jZWwub25jbGljayA9ICgpID0+IHsKICAgICAgcmVzb2x2ZShudWxsKTsKICAgIH07CiAgfSk7CgogIC8vIENhbmNlbCB1cGxvYWQgaWYgdXNlciBoYXNuJ3QgcGlja2VkIGFueXRoaW5nIGluIHRpbWVvdXQuCiAgY29uc3QgdGltZW91dFByb21pc2UgPSBuZXcgUHJvbWlzZSgocmVzb2x2ZSkgPT4gewogICAgc2V0VGltZW91dCgoKSA9PiB7CiAgICAgIHJlc29sdmUobnVsbCk7CiAgICB9LCBGSUxFX0NIQU5HRV9USU1FT1VUX01TKTsKICB9KTsKCiAgLy8gV2FpdCBmb3IgdGhlIHVzZXIgdG8gcGljayB0aGUgZmlsZXMuCiAgY29uc3QgZmlsZXMgPSB5aWVsZCB7CiAgICBwcm9taXNlOiBQcm9taXNlLnJhY2UoW3BpY2tlZFByb21pc2UsIHRpbWVvdXRQcm9taXNlLCBjYW5jZWxQcm9taXNlXSksCiAgICByZXNwb25zZTogewogICAgICBhY3Rpb246ICdzdGFydGluZycsCiAgICB9CiAgfTsKCiAgaWYgKCFmaWxlcykgewogICAgcmV0dXJuIHsKICAgICAgcmVzcG9uc2U6IHsKICAgICAgICBhY3Rpb246ICdjb21wbGV0ZScsCiAgICAgIH0KICAgIH07CiAgfQoKICBjYW5jZWwucmVtb3ZlKCk7CgogIC8vIERpc2FibGUgdGhlIGlucHV0IGVsZW1lbnQgc2luY2UgZnVydGhlciBwaWNrcyBhcmUgbm90IGFsbG93ZWQuCiAgaW5wdXRFbGVtZW50LmRpc2FibGVkID0gdHJ1ZTsKCiAgZm9yIChjb25zdCBmaWxlIG9mIGZpbGVzKSB7CiAgICBjb25zdCBsaSA9IGRvY3VtZW50LmNyZWF0ZUVsZW1lbnQoJ2xpJyk7CiAgICBsaS5hcHBlbmQoc3BhbihmaWxlLm5hbWUsIHtmb250V2VpZ2h0OiAnYm9sZCd9KSk7CiAgICBsaS5hcHBlbmQoc3BhbigKICAgICAgICBgKCR7ZmlsZS50eXBlIHx8ICduL2EnfSkgLSAke2ZpbGUuc2l6ZX0gYnl0ZXMsIGAgKwogICAgICAgIGBsYXN0IG1vZGlmaWVkOiAkewogICAgICAgICAgICBmaWxlLmxhc3RNb2RpZmllZERhdGUgPyBmaWxlLmxhc3RNb2RpZmllZERhdGUudG9Mb2NhbGVEYXRlU3RyaW5nKCkgOgogICAgICAgICAgICAgICAgICAgICAgICAgICAgICAgICAgICAnbi9hJ30gLSBgKSk7CiAgICBjb25zdCBwZXJjZW50ID0gc3BhbignMCUgZG9uZScpOwogICAgbGkuYXBwZW5kQ2hpbGQocGVyY2VudCk7CgogICAgb3V0cHV0RWxlbWVudC5hcHBlbmRDaGlsZChsaSk7CgogICAgY29uc3QgZmlsZURhdGFQcm9taXNlID0gbmV3IFByb21pc2UoKHJlc29sdmUpID0+IHsKICAgICAgY29uc3QgcmVhZGVyID0gbmV3IEZpbGVSZWFkZXIoKTsKICAgICAgcmVhZGVyLm9ubG9hZCA9IChlKSA9PiB7CiAgICAgICAgcmVzb2x2ZShlLnRhcmdldC5yZXN1bHQpOwogICAgICB9OwogICAgICByZWFkZXIucmVhZEFzQXJyYXlCdWZmZXIoZmlsZSk7CiAgICB9KTsKICAgIC8vIFdhaXQgZm9yIHRoZSBkYXRhIHRvIGJlIHJlYWR5LgogICAgbGV0IGZpbGVEYXRhID0geWllbGQgewogICAgICBwcm9taXNlOiBmaWxlRGF0YVByb21pc2UsCiAgICAgIHJlc3BvbnNlOiB7CiAgICAgICAgYWN0aW9uOiAnY29udGludWUnLAogICAgICB9CiAgICB9OwoKICAgIC8vIFVzZSBhIGNodW5rZWQgc2VuZGluZyB0byBhdm9pZCBtZXNzYWdlIHNpemUgbGltaXRzLiBTZWUgYi82MjExNTY2MC4KICAgIGxldCBwb3NpdGlvbiA9IDA7CiAgICB3aGlsZSAocG9zaXRpb24gPCBmaWxlRGF0YS5ieXRlTGVuZ3RoKSB7CiAgICAgIGNvbnN0IGxlbmd0aCA9IE1hdGgubWluKGZpbGVEYXRhLmJ5dGVMZW5ndGggLSBwb3NpdGlvbiwgTUFYX1BBWUxPQURfU0laRSk7CiAgICAgIGNvbnN0IGNodW5rID0gbmV3IFVpbnQ4QXJyYXkoZmlsZURhdGEsIHBvc2l0aW9uLCBsZW5ndGgpOwogICAgICBwb3NpdGlvbiArPSBsZW5ndGg7CgogICAgICBjb25zdCBiYXNlNjQgPSBidG9hKFN0cmluZy5mcm9tQ2hhckNvZGUuYXBwbHkobnVsbCwgY2h1bmspKTsKICAgICAgeWllbGQgewogICAgICAgIHJlc3BvbnNlOiB7CiAgICAgICAgICBhY3Rpb246ICdhcHBlbmQnLAogICAgICAgICAgZmlsZTogZmlsZS5uYW1lLAogICAgICAgICAgZGF0YTogYmFzZTY0LAogICAgICAgIH0sCiAgICAgIH07CiAgICAgIHBlcmNlbnQudGV4dENvbnRlbnQgPQogICAgICAgICAgYCR7TWF0aC5yb3VuZCgocG9zaXRpb24gLyBmaWxlRGF0YS5ieXRlTGVuZ3RoKSAqIDEwMCl9JSBkb25lYDsKICAgIH0KICB9CgogIC8vIEFsbCBkb25lLgogIHlpZWxkIHsKICAgIHJlc3BvbnNlOiB7CiAgICAgIGFjdGlvbjogJ2NvbXBsZXRlJywKICAgIH0KICB9Owp9CgpzY29wZS5nb29nbGUgPSBzY29wZS5nb29nbGUgfHwge307CnNjb3BlLmdvb2dsZS5jb2xhYiA9IHNjb3BlLmdvb2dsZS5jb2xhYiB8fCB7fTsKc2NvcGUuZ29vZ2xlLmNvbGFiLl9maWxlcyA9IHsKICBfdXBsb2FkRmlsZXMsCiAgX3VwbG9hZEZpbGVzQ29udGludWUsCn07Cn0pKHNlbGYpOwo=",
              "ok": true,
              "headers": [
                [
                  "content-type",
                  "application/javascript"
                ]
              ],
              "status": 200,
              "status_text": ""
            }
          },
          "base_uri": "https://localhost:8080/",
          "height": 74
        },
        "outputId": "870389b1-175d-4807-d5c2-bae1f3f224a8"
      },
      "source": [
        "from google.colab import files\n",
        "uploaded = files.upload()"
      ],
      "execution_count": 4,
      "outputs": [
        {
          "output_type": "display_data",
          "data": {
            "text/html": [
              "\n",
              "     <input type=\"file\" id=\"files-4f42e757-3924-4b89-8f53-7f52bf4344cc\" name=\"files[]\" multiple disabled />\n",
              "     <output id=\"result-4f42e757-3924-4b89-8f53-7f52bf4344cc\">\n",
              "      Upload widget is only available when the cell has been executed in the\n",
              "      current browser session. Please rerun this cell to enable.\n",
              "      </output>\n",
              "      <script src=\"/nbextensions/google.colab/files.js\"></script> "
            ],
            "text/plain": [
              "<IPython.core.display.HTML object>"
            ]
          },
          "metadata": {
            "tags": []
          }
        },
        {
          "output_type": "stream",
          "text": [
            "Saving kaggle.json to kaggle.json\n"
          ],
          "name": "stdout"
        }
      ]
    },
    {
      "cell_type": "code",
      "metadata": {
        "id": "XzL25tbhK-R9",
        "colab_type": "code",
        "colab": {
          "base_uri": "https://localhost:8080/",
          "height": 34
        },
        "outputId": "eea4b826-1d72-4e0d-a0d8-e43d1cc4862c"
      },
      "source": [
        "# Let's make sure the kaggle.json file is present.\n",
        "!ls -lha kaggle.json"
      ],
      "execution_count": 5,
      "outputs": [
        {
          "output_type": "stream",
          "text": [
            "-rw-r--r-- 1 root root 66 Sep 14 19:39 kaggle.json\n"
          ],
          "name": "stdout"
        }
      ]
    },
    {
      "cell_type": "code",
      "metadata": {
        "id": "PSgI6wNiSadk",
        "colab_type": "code",
        "colab": {}
      },
      "source": [
        "# Next, install the Kaggle API client.\n",
        "!pip install -q kaggle"
      ],
      "execution_count": 0,
      "outputs": []
    },
    {
      "cell_type": "code",
      "metadata": {
        "id": "ePre0aQTSdIe",
        "colab_type": "code",
        "colab": {}
      },
      "source": [
        "# The Kaggle API client expects this file to be in ~/.kaggle,\n",
        "# so move it there.\n",
        "!mkdir -p ~/.kaggle\n",
        "!cp kaggle.json ~/.kaggle/\n",
        "\n",
        "# This permissions change avoids a warning on Kaggle tool startup.\n",
        "!chmod 600 ~/.kaggle/kaggle.json"
      ],
      "execution_count": 0,
      "outputs": []
    },
    {
      "cell_type": "code",
      "metadata": {
        "id": "1aemIpsGShNF",
        "colab_type": "code",
        "colab": {
          "base_uri": "https://localhost:8080/",
          "height": 391
        },
        "outputId": "ab5f9251-56ea-48a0-8b09-43c1a9dc1dbd"
      },
      "source": [
        "# List available datasets.\n",
        "!kaggle datasets list"
      ],
      "execution_count": 8,
      "outputs": [
        {
          "output_type": "stream",
          "text": [
            "ref                                                       title                                              size  lastUpdated          downloadCount  \n",
            "--------------------------------------------------------  ------------------------------------------------  -----  -------------------  -------------  \n",
            "therohk/ireland-historical-news                           The Irish Times - Waxy-Wany News                   47MB  2019-08-24 15:36:54            902  \n",
            "dgomonov/new-york-city-airbnb-open-data                   New York City Airbnb Open Data                      2MB  2019-08-12 16:24:45          10788  \n",
            "lakshyaag/india-trade-data                                India - Trade Data                                  1MB  2019-08-16 16:13:58           6235  \n",
            "bradklassen/pga-tour-20102018-data                        PGA Tour Golf Data                                 94MB  2019-08-30 00:09:59           5301  \n",
            "r3w0p4/bournemouth-venues                                 Venues in Bournemouth                               3KB  2019-07-08 14:26:48           1131  \n",
            "AnalyzeBoston/crimes-in-boston                            Crimes in Boston                                   10MB  2018-09-04 17:56:03          17651  \n",
            "dareenalharthi/jamalon-arabic-books-dataset               Jamalon Arabic Books Dataset                        1MB  2019-08-15 18:58:06            264  \n",
            "samhiatt/xenocanto-avian-vocalizations-canv-usa           Avian Vocalizations from CA & NV, USA               1GB  2019-08-10 00:16:10            202  \n",
            "codersree/mount-rainier-weather-and-climbing-data         Mount Rainier Weather and Climbing Data            25KB  2019-08-27 23:33:36            867  \n",
            "citizen-ds-ghana/health-facilities-gh                     Ghana Health Facilities                            84KB  2018-09-03 01:19:24           1756  \n",
            "doit-intl/autotel-shared-car-locations                    Shared Cars Locations                              78MB  2019-01-10 13:06:00           2150  \n",
            "jolasa/waves-measuring-buoys-data-mooloolaba              Waves Measuring Buoys Data                        599KB  2019-07-07 16:59:44           2258  \n",
            "ma7555/schengen-visa-stats                                Schengen Visa Stats 2017/2018                       1MB  2019-07-25 10:55:37            877  \n",
            "lishuyangkaggle/cocktails-hotaling-co                     Cocktails (Hotaling & Co.)                         75KB  2019-07-08 23:49:34            832  \n",
            "Madgrades/uw-madison-courses                              UW Madison Courses and Grades 2006-2017            90MB  2018-05-15 18:58:25           1763  \n",
            "inIT-OWL/vega-shrinkwrapper-runtofailure-data             Vega shrink-wrapper component degradation         408KB  2018-11-12 13:03:43            359  \n",
            "martj42/international-football-results-from-1872-to-2017  International football results from 1872 to 2019  518KB  2019-07-22 17:03:13          18653  \n",
            "citylines/city-lines                                      Transit systems of world                            3MB  2019-03-25 16:53:05           3006  \n",
            "datafiniti/pizza-restaurants-and-the-pizza-they-sell      Pizza Restaurants and the Pizza They Sell         850KB  2019-05-30 00:21:21           8189  \n",
            "university-of-edinburgh/peace-agreements-dataset          Peace Agreements Dataset                            1MB  2018-03-05 16:39:50           1042  \n"
          ],
          "name": "stdout"
        }
      ]
    },
    {
      "cell_type": "code",
      "metadata": {
        "id": "SzG4myntSujz",
        "colab_type": "code",
        "colab": {
          "base_uri": "https://localhost:8080/",
          "height": 170
        },
        "outputId": "c2a67236-c3de-4e3e-eda5-ad1f1e663bbd"
      },
      "source": [
        "# Copy the stackoverflow data set locally.\n",
        "!kaggle competitions download -c avazu-ctr-prediction"
      ],
      "execution_count": 12,
      "outputs": [
        {
          "output_type": "stream",
          "text": [
            "Downloading train.gz to /content\n",
            " 99% 1.03G/1.04G [00:13<00:00, 73.4MB/s]\n",
            "100% 1.04G/1.04G [00:13<00:00, 83.7MB/s]\n",
            "Downloading test.gz to /content\n",
            " 90% 106M/118M [00:02<00:00, 22.7MB/s] \n",
            "100% 118M/118M [00:02<00:00, 43.1MB/s]\n",
            "Downloading sampleSubmission.gz to /content\n",
            " 60% 20.0M/33.2M [00:00<00:00, 23.4MB/s]\n",
            "100% 33.2M/33.2M [00:00<00:00, 67.3MB/s]\n"
          ],
          "name": "stdout"
        }
      ]
    },
    {
      "cell_type": "markdown",
      "metadata": {
        "id": "sIV7YJ_GT7Z0",
        "colab_type": "text"
      },
      "source": [
        "**EDA & Feature Engineering** :- \n",
        "The training set contains over 40 millions of records, to be able to process locally, we will randomly sample 1 million of them."
      ]
    },
    {
      "cell_type": "code",
      "metadata": {
        "id": "mI2EXP-RUBR8",
        "colab_type": "code",
        "colab": {}
      },
      "source": [
        "import numpy as n\n",
        "import random\n",
        "import pandas as pd\n",
        "import gzip\n",
        "n = 40428967  #total number of records in the clickstream data \n",
        "sample_size = 1000000\n",
        "skip_values = sorted(random.sample(range(1,n), n-sample_size))\n",
        "parse_date = lambda val : pd.datetime.strptime(val, '%y%m%d%H')\n",
        "with gzip.open('train.gz') as f:\n",
        "    train = pd.read_csv(f, parse_dates = ['hour'], date_parser = parse_date, skiprows = skip_values)#dtype=types_train, )"
      ],
      "execution_count": 0,
      "outputs": []
    },
    {
      "cell_type": "code",
      "metadata": {
        "id": "kSV_3lhHXrdr",
        "colab_type": "code",
        "colab": {
          "base_uri": "https://localhost:8080/",
          "height": 309
        },
        "outputId": "5deedcd2-8024-483b-9f5b-de8f4acc92d3"
      },
      "source": [
        "train.head()"
      ],
      "execution_count": 24,
      "outputs": [
        {
          "output_type": "execute_result",
          "data": {
            "text/html": [
              "<div>\n",
              "<style scoped>\n",
              "    .dataframe tbody tr th:only-of-type {\n",
              "        vertical-align: middle;\n",
              "    }\n",
              "\n",
              "    .dataframe tbody tr th {\n",
              "        vertical-align: top;\n",
              "    }\n",
              "\n",
              "    .dataframe thead th {\n",
              "        text-align: right;\n",
              "    }\n",
              "</style>\n",
              "<table border=\"1\" class=\"dataframe\">\n",
              "  <thead>\n",
              "    <tr style=\"text-align: right;\">\n",
              "      <th></th>\n",
              "      <th>id</th>\n",
              "      <th>click</th>\n",
              "      <th>hour</th>\n",
              "      <th>C1</th>\n",
              "      <th>banner_pos</th>\n",
              "      <th>site_id</th>\n",
              "      <th>site_domain</th>\n",
              "      <th>site_category</th>\n",
              "      <th>app_id</th>\n",
              "      <th>app_domain</th>\n",
              "      <th>app_category</th>\n",
              "      <th>device_id</th>\n",
              "      <th>device_ip</th>\n",
              "      <th>device_model</th>\n",
              "      <th>device_type</th>\n",
              "      <th>device_conn_type</th>\n",
              "      <th>C14</th>\n",
              "      <th>C15</th>\n",
              "      <th>C16</th>\n",
              "      <th>C17</th>\n",
              "      <th>C18</th>\n",
              "      <th>C19</th>\n",
              "      <th>C20</th>\n",
              "      <th>C21</th>\n",
              "    </tr>\n",
              "  </thead>\n",
              "  <tbody>\n",
              "    <tr>\n",
              "      <th>0</th>\n",
              "      <td>10034295299322669964</td>\n",
              "      <td>0</td>\n",
              "      <td>2014-10-21</td>\n",
              "      <td>1010</td>\n",
              "      <td>1</td>\n",
              "      <td>85f751fd</td>\n",
              "      <td>c4e18dd6</td>\n",
              "      <td>50e219e0</td>\n",
              "      <td>03a08c3f</td>\n",
              "      <td>7801e8d9</td>\n",
              "      <td>0f2161f8</td>\n",
              "      <td>30f17f5f</td>\n",
              "      <td>2df31c38</td>\n",
              "      <td>684581ce</td>\n",
              "      <td>4</td>\n",
              "      <td>3</td>\n",
              "      <td>21310</td>\n",
              "      <td>320</td>\n",
              "      <td>50</td>\n",
              "      <td>2449</td>\n",
              "      <td>0</td>\n",
              "      <td>163</td>\n",
              "      <td>100106</td>\n",
              "      <td>91</td>\n",
              "    </tr>\n",
              "    <tr>\n",
              "      <th>1</th>\n",
              "      <td>10037810025728838562</td>\n",
              "      <td>0</td>\n",
              "      <td>2014-10-21</td>\n",
              "      <td>1005</td>\n",
              "      <td>1</td>\n",
              "      <td>5ee41ff2</td>\n",
              "      <td>17d996e6</td>\n",
              "      <td>f028772b</td>\n",
              "      <td>ecad2386</td>\n",
              "      <td>7801e8d9</td>\n",
              "      <td>07d7df22</td>\n",
              "      <td>a99f214a</td>\n",
              "      <td>0c8250d7</td>\n",
              "      <td>88fe1d5d</td>\n",
              "      <td>1</td>\n",
              "      <td>0</td>\n",
              "      <td>19771</td>\n",
              "      <td>320</td>\n",
              "      <td>50</td>\n",
              "      <td>2227</td>\n",
              "      <td>0</td>\n",
              "      <td>687</td>\n",
              "      <td>-1</td>\n",
              "      <td>48</td>\n",
              "    </tr>\n",
              "    <tr>\n",
              "      <th>2</th>\n",
              "      <td>1004326673744329635</td>\n",
              "      <td>0</td>\n",
              "      <td>2014-10-21</td>\n",
              "      <td>1005</td>\n",
              "      <td>0</td>\n",
              "      <td>543a539e</td>\n",
              "      <td>c7ca3108</td>\n",
              "      <td>3e814130</td>\n",
              "      <td>ecad2386</td>\n",
              "      <td>7801e8d9</td>\n",
              "      <td>07d7df22</td>\n",
              "      <td>a99f214a</td>\n",
              "      <td>592dcc7c</td>\n",
              "      <td>d787e91b</td>\n",
              "      <td>1</td>\n",
              "      <td>0</td>\n",
              "      <td>20362</td>\n",
              "      <td>320</td>\n",
              "      <td>50</td>\n",
              "      <td>2333</td>\n",
              "      <td>0</td>\n",
              "      <td>39</td>\n",
              "      <td>-1</td>\n",
              "      <td>157</td>\n",
              "    </tr>\n",
              "    <tr>\n",
              "      <th>3</th>\n",
              "      <td>10052561582444813739</td>\n",
              "      <td>1</td>\n",
              "      <td>2014-10-21</td>\n",
              "      <td>1005</td>\n",
              "      <td>0</td>\n",
              "      <td>1fbe01fe</td>\n",
              "      <td>f3845767</td>\n",
              "      <td>28905ebd</td>\n",
              "      <td>ecad2386</td>\n",
              "      <td>7801e8d9</td>\n",
              "      <td>07d7df22</td>\n",
              "      <td>a99f214a</td>\n",
              "      <td>5ba6ef40</td>\n",
              "      <td>d787e91b</td>\n",
              "      <td>1</td>\n",
              "      <td>0</td>\n",
              "      <td>15708</td>\n",
              "      <td>320</td>\n",
              "      <td>50</td>\n",
              "      <td>1722</td>\n",
              "      <td>0</td>\n",
              "      <td>35</td>\n",
              "      <td>-1</td>\n",
              "      <td>79</td>\n",
              "    </tr>\n",
              "    <tr>\n",
              "      <th>4</th>\n",
              "      <td>10053027485503883989</td>\n",
              "      <td>0</td>\n",
              "      <td>2014-10-21</td>\n",
              "      <td>1005</td>\n",
              "      <td>0</td>\n",
              "      <td>1fbe01fe</td>\n",
              "      <td>f3845767</td>\n",
              "      <td>28905ebd</td>\n",
              "      <td>ecad2386</td>\n",
              "      <td>7801e8d9</td>\n",
              "      <td>07d7df22</td>\n",
              "      <td>a99f214a</td>\n",
              "      <td>afa320bb</td>\n",
              "      <td>8a4875bd</td>\n",
              "      <td>1</td>\n",
              "      <td>0</td>\n",
              "      <td>15705</td>\n",
              "      <td>320</td>\n",
              "      <td>50</td>\n",
              "      <td>1722</td>\n",
              "      <td>0</td>\n",
              "      <td>35</td>\n",
              "      <td>100084</td>\n",
              "      <td>79</td>\n",
              "    </tr>\n",
              "  </tbody>\n",
              "</table>\n",
              "</div>"
            ],
            "text/plain": [
              "                     id  click       hour    C1  ...  C18  C19     C20  C21\n",
              "0  10034295299322669964      0 2014-10-21  1010  ...    0  163  100106   91\n",
              "1  10037810025728838562      0 2014-10-21  1005  ...    0  687      -1   48\n",
              "2   1004326673744329635      0 2014-10-21  1005  ...    0   39      -1  157\n",
              "3  10052561582444813739      1 2014-10-21  1005  ...    0   35      -1   79\n",
              "4  10053027485503883989      0 2014-10-21  1005  ...    0   35  100084   79\n",
              "\n",
              "[5 rows x 24 columns]"
            ]
          },
          "metadata": {
            "tags": []
          },
          "execution_count": 24
        }
      ]
    },
    {
      "cell_type": "markdown",
      "metadata": {
        "id": "OOsOIXbBYPuQ",
        "colab_type": "text"
      },
      "source": [
        "**Features :-** \n",
        "We can group all the features in the data into the following categories:\n",
        "\n",
        "1.   Target feature : click\n",
        "2.   site features : site_id, site_domain, site_category\n",
        "3.   app feature: app_id, app_domain, app_category\n",
        "4.   device feature: device_id, device_ip, device_model, device_type,  device_conn_type*\n",
        "5.   anonymized categorical features: C14-C21\n",
        "\n",
        "\n",
        "\n",
        "\n"
      ]
    },
    {
      "cell_type": "code",
      "metadata": {
        "id": "jtgSYvGvYAvc",
        "colab_type": "code",
        "colab": {
          "base_uri": "https://localhost:8080/",
          "height": 283
        },
        "outputId": "4b3fa54c-ba08-41a5-ff5e-cd220d9a0b2f"
      },
      "source": [
        "import seaborn as sns\n",
        "import matplotlib.pyplot as plt\n",
        "sns.countplot(x='click',data=train, palette='hls')\n",
        "plt.show();"
      ],
      "execution_count": 25,
      "outputs": [
        {
          "output_type": "display_data",
          "data": {
            "image/png": "[encoded data removed]",
            "text/plain": [
              "<Figure size 432x288 with 1 Axes>"
            ]
          },
          "metadata": {
            "tags": []
          }
        }
      ]
    },
    {
      "cell_type": "code",
      "metadata": {
        "id": "UvitXey6ZzjS",
        "colab_type": "code",
        "colab": {
          "base_uri": "https://localhost:8080/",
          "height": 68
        },
        "outputId": "d39c627c-e7b6-4ff8-b5be-f187a7323ab8"
      },
      "source": [
        "train['click'].value_counts()/len(train)"
      ],
      "execution_count": 26,
      "outputs": [
        {
          "output_type": "execute_result",
          "data": {
            "text/plain": [
              "0    0.829554\n",
              "1    0.170446\n",
              "Name: click, dtype: float64"
            ]
          },
          "metadata": {
            "tags": []
          },
          "execution_count": 26
        }
      ]
    },
    {
      "cell_type": "markdown",
      "metadata": {
        "id": "_7I6MZWgaEd0",
        "colab_type": "text"
      },
      "source": [
        "**The overall click through rate is approx. 17%, and approx. 83% is not clicked.**"
      ]
    },
    {
      "cell_type": "code",
      "metadata": {
        "id": "Ekc35dJtaC8z",
        "colab_type": "code",
        "colab": {
          "base_uri": "https://localhost:8080/",
          "height": 136
        },
        "outputId": "87116058-da3e-4a82-f247-b0240a0e89bc"
      },
      "source": [
        "train.hour.describe()"
      ],
      "execution_count": 27,
      "outputs": [
        {
          "output_type": "execute_result",
          "data": {
            "text/plain": [
              "count                 1000000\n",
              "unique                    240\n",
              "top       2014-10-22 09:00:00\n",
              "freq                    11113\n",
              "first     2014-10-21 00:00:00\n",
              "last      2014-10-30 23:00:00\n",
              "Name: hour, dtype: object"
            ]
          },
          "metadata": {
            "tags": []
          },
          "execution_count": 27
        }
      ]
    },
    {
      "cell_type": "markdown",
      "metadata": {
        "id": "H1MzQ1SiaQmA",
        "colab_type": "text"
      },
      "source": [
        "**The data covers 10 days of click streams data from 2014–10–21 to 2014–10–30, that is 240 hours.**"
      ]
    },
    {
      "cell_type": "code",
      "metadata": {
        "id": "ccX8CZEZaOOX",
        "colab_type": "code",
        "colab": {
          "base_uri": "https://localhost:8080/",
          "height": 427
        },
        "outputId": "56197bee-2d03-4b65-e26b-e8e4ecb39576"
      },
      "source": [
        "train.groupby('hour').agg({'click':'sum'}).plot(figsize=(12,6))\n",
        "plt.ylabel('Number of clicks')\n",
        "plt.title('Number of clicks by hour');"
      ],
      "execution_count": 28,
      "outputs": [
        {
          "output_type": "display_data",
          "data": {
            "image/png": "[encoded data removed]",
            "text/plain": [
              "<Figure size 864x432 with 1 Axes>"
            ]
          },
          "metadata": {
            "tags": []
          }
        }
      ]
    },
    {
      "cell_type": "markdown",
      "metadata": {
        "id": "xeSs91Rwa2Gj",
        "colab_type": "text"
      },
      "source": [
        "The hourly clicks pattern looks pretty similar every day. However, there were a couple of peak hours, one is sometime in the mid of the day on Oct 22, and another is sometime in the mid of the day on Oct 28. And one very low click hour is close to mid-night on Oct 24.\n",
        "\n",
        "> **Feature engineering for date time features Hour** :- \n",
        "\n",
        "\n",
        "> Extract hour from date time feature.\n",
        "\n"
      ]
    },
    {
      "cell_type": "code",
      "metadata": {
        "id": "9cWh4335arP8",
        "colab_type": "code",
        "colab": {
          "base_uri": "https://localhost:8080/",
          "height": 405
        },
        "outputId": "4fd3eefa-de2d-4437-e291-04b67c6aaf63"
      },
      "source": [
        "train['hour_of_day'] = train.hour.apply(lambda x: x.hour)\n",
        "train.groupby('hour_of_day').agg({'click':'sum'}).plot(figsize=(12,6))\n",
        "plt.ylabel('Number of clicks')\n",
        "plt.title('click trends by hour of day');"
      ],
      "execution_count": 29,
      "outputs": [
        {
          "output_type": "display_data",
          "data": {
            "image/png": "[encoded data removed]",
            "text/plain": [
              "<Figure size 864x432 with 1 Axes>"
            ]
          },
          "metadata": {
            "tags": []
          }
        }
      ]
    },
    {
      "cell_type": "markdown",
      "metadata": {
        "id": "c8WqRFFcbbgG",
        "colab_type": "text"
      },
      "source": [
        "In general, the highest number of clicks is at hour 13 and 14 **(1pm and 2pm)**, and the lowest number of clicks is at hour 0 **(mid-night)**. It seems a useful feature for roughly estimation.\n",
        "\n",
        "> Let’s take impressions into consideration."
      ]
    },
    {
      "cell_type": "code",
      "metadata": {
        "id": "oRa82PoNblrv",
        "colab_type": "code",
        "colab": {
          "base_uri": "https://localhost:8080/",
          "height": 408
        },
        "outputId": "20b5ae1e-4fef-4cd6-c478-e1310b0d299f"
      },
      "source": [
        "train.groupby(['hour_of_day', 'click']).size().unstack().plot(kind='bar', title=\"Hour of Day\", figsize=(12,6))\n",
        "plt.ylabel('count')\n",
        "plt.title('Hourly impressions vs. clicks');"
      ],
      "execution_count": 30,
      "outputs": [
        {
          "output_type": "display_data",
          "data": {
            "image/png": "[encoded data removed]",
            "text/plain": [
              "<Figure size 864x432 with 1 Axes>"
            ]
          },
          "metadata": {
            "tags": []
          }
        }
      ]
    },
    {
      "cell_type": "markdown",
      "metadata": {
        "id": "IblxtA80b3XK",
        "colab_type": "text"
      },
      "source": [
        "## **Hourly CTR**"
      ]
    },
    {
      "cell_type": "code",
      "metadata": {
        "id": "A1zap7G_b1Ow",
        "colab_type": "code",
        "colab": {
          "base_uri": "https://localhost:8080/",
          "height": 405
        },
        "outputId": "d09b617e-809c-4600-9af2-74616acfe9a5"
      },
      "source": [
        "import seaborn as sns\n",
        "df_click = train[train['click'] == 1]\n",
        "df_hour = train[['hour_of_day','click']].groupby(['hour_of_day']).count().reset_index()\n",
        "df_hour = df_hour.rename(columns={'click': 'impressions'})\n",
        "df_hour['clicks'] = df_click[['hour_of_day','click']].groupby(['hour_of_day']).count().reset_index()['click']\n",
        "df_hour['CTR'] = df_hour['clicks']/df_hour['impressions']*100\n",
        "plt.figure(figsize=(12,6))\n",
        "sns.barplot(y='CTR', x='hour_of_day', data=df_hour)\n",
        "plt.title('Hourly CTR');"
      ],
      "execution_count": 31,
      "outputs": [
        {
          "output_type": "display_data",
          "data": {
            "image/png": "[encoded data removed]",
            "text/plain": [
              "<Figure size 864x432 with 1 Axes>"
            ]
          },
          "metadata": {
            "tags": []
          }
        }
      ]
    },
    {
      "cell_type": "markdown",
      "metadata": {
        "id": "n4xYZXYBcIzJ",
        "colab_type": "text"
      },
      "source": [
        "**One of the interesting observations here is that the highest CTR happened in the hour of mid-night, 1, 7 and 15. If you remember, around mid-night has the least number of impressions and clicks.**"
      ]
    },
    {
      "cell_type": "markdown",
      "metadata": {
        "id": "w7UfREzfcLk_",
        "colab_type": "text"
      },
      "source": [
        "## **Day of week**"
      ]
    },
    {
      "cell_type": "code",
      "metadata": {
        "id": "bPzafuxAcDIc",
        "colab_type": "code",
        "colab": {
          "base_uri": "https://localhost:8080/",
          "height": 459
        },
        "outputId": "9fd6bf82-e7bb-4063-8acf-163e43ad00b7"
      },
      "source": [
        "train['day_of_week'] = train['hour'].apply(lambda val: val.weekday_name)\n",
        "cats = ['Monday', 'Tuesday', 'Wednesday', 'Thursday', 'Friday', 'Saturday', 'Sunday']\n",
        "train.groupby('day_of_week').agg({'click':'sum'}).reindex(cats).plot(figsize=(12,6))\n",
        "ticks = list(range(0, 7, 1)) # points on the x axis where you want the label to appear\n",
        "labels = \"Mon Tues Weds Thurs Fri Sat Sun\".split()\n",
        "plt.xticks(ticks, labels)\n",
        "plt.title('click trends by day of week');"
      ],
      "execution_count": 34,
      "outputs": [
        {
          "output_type": "stream",
          "text": [
            "/usr/local/lib/python3.6/dist-packages/ipykernel_launcher.py:1: FutureWarning: `weekday_name` is deprecated and will be removed in a future version. Use `day_name` instead\n",
            "  \"\"\"Entry point for launching an IPython kernel.\n"
          ],
          "name": "stderr"
        },
        {
          "output_type": "display_data",
          "data": {
            "image/png": "[encoded data removed]",
            "text/plain": [
              "<Figure size 864x432 with 1 Axes>"
            ]
          },
          "metadata": {
            "tags": []
          }
        }
      ]
    },
    {
      "cell_type": "code",
      "metadata": {
        "id": "ZZkElH2Ccr0H",
        "colab_type": "code",
        "colab": {
          "base_uri": "https://localhost:8080/",
          "height": 423
        },
        "outputId": "5f3cc1c0-0737-4b08-c96a-e90724bdf8ac"
      },
      "source": [
        "train.groupby(['day_of_week','click']).size().unstack().reindex(cats).plot(kind='bar', title=\"Day of the Week\", figsize=(12,6))\n",
        "ticks = list(range(0, 7, 1)) # points on the x axis where you want the label to appear\n",
        "labels = \"Mon Tues Weds Thurs Fri Sat Sun\".split()\n",
        "plt.xticks(ticks, labels)\n",
        "plt.title('Impressions vs. clicks by day of week');"
      ],
      "execution_count": 37,
      "outputs": [
        {
          "output_type": "display_data",
          "data": {
            "image/png": "[encoded data removed]",
            "text/plain": [
              "<Figure size 864x432 with 1 Axes>"
            ]
          },
          "metadata": {
            "tags": []
          }
        }
      ]
    },
    {
      "cell_type": "markdown",
      "metadata": {
        "id": "8Yw6eVkSc_nT",
        "colab_type": "text"
      },
      "source": [
        "**Tuesdays have the most number of impressions and clicks, then Wednesdays, followed by Thursdays. Mondays and Fridays have the least number of impressions and clicks.**"
      ]
    },
    {
      "cell_type": "markdown",
      "metadata": {
        "id": "ZZtCTLLedCkD",
        "colab_type": "text"
      },
      "source": [
        "## **Day of week CTR**"
      ]
    },
    {
      "cell_type": "code",
      "metadata": {
        "id": "I5UmZq6bdBGL",
        "colab_type": "code",
        "colab": {
          "base_uri": "https://localhost:8080/",
          "height": 405
        },
        "outputId": "3f130b43-6965-4680-8107-eec494e23a32"
      },
      "source": [
        "df_click = train[train['click'] == 1]\n",
        "df_dayofweek = train[['day_of_week','click']].groupby(['day_of_week']).count().reset_index()\n",
        "df_dayofweek = df_dayofweek.rename(columns={'click': 'impressions'})\n",
        "df_dayofweek['clicks'] = df_click[['day_of_week','click']].groupby(['day_of_week']).count().reset_index()['click']\n",
        "df_dayofweek['CTR'] = df_dayofweek['clicks']/df_dayofweek['impressions']*100\n",
        "plt.figure(figsize=(12,6))\n",
        "sns.barplot(y='CTR', x='day_of_week', data=df_dayofweek, order=['Monday', 'Tuesday', 'Wednesday', 'Thursday', 'Friday', 'Saturday', 'Sunday'])\n",
        "plt.title('Day of week CTR');"
      ],
      "execution_count": 38,
      "outputs": [
        {
          "output_type": "display_data",
          "data": {
            "image/png": "[encoded data removed]",
            "text/plain": [
              "<Figure size 864x432 with 1 Axes>"
            ]
          },
          "metadata": {
            "tags": []
          }
        }
      ]
    },
    {
      "cell_type": "markdown",
      "metadata": {
        "id": "aWy5heIIdMdk",
        "colab_type": "text"
      },
      "source": [
        "**While Tuesdays and Wednesdays have the highest number of impressions and clicks, their CTR are among the lowest. Saturdays and Sundays enjoy the highest CTR. Apparently, people have more time to click over the weekend.**"
      ]
    },
    {
      "cell_type": "markdown",
      "metadata": {
        "id": "jMPVtvkBdSMa",
        "colab_type": "text"
      },
      "source": [
        "**C1 feature**\n",
        "\n",
        "\n",
        "C1 is one of the anonymized categorical features. Although we don’t know its meaning, we still want to take a look its distribution."
      ]
    },
    {
      "cell_type": "code",
      "metadata": {
        "id": "8Y7kq7n9dP6C",
        "colab_type": "code",
        "colab": {
          "base_uri": "https://localhost:8080/",
          "height": 153
        },
        "outputId": "9528cd9c-1ffe-4905-c2f8-b789709eaab6"
      },
      "source": [
        "print(train.C1.value_counts()/len(train))"
      ],
      "execution_count": 39,
      "outputs": [
        {
          "output_type": "stream",
          "text": [
            "1005    0.918736\n",
            "1002    0.054985\n",
            "1010    0.022219\n",
            "1012    0.002852\n",
            "1007    0.000849\n",
            "1001    0.000205\n",
            "1008    0.000154\n",
            "Name: C1, dtype: float64\n"
          ],
          "name": "stdout"
        }
      ]
    },
    {
      "cell_type": "markdown",
      "metadata": {
        "id": "B1dnd6T0df0m",
        "colab_type": "text"
      },
      "source": [
        "**C1 value = 1005 has the most data, almost 92% of all the data we are using. Let’s see whether we can find value of C1 indicates something about CTR.**"
      ]
    },
    {
      "cell_type": "code",
      "metadata": {
        "id": "7d78M-i_dbqj",
        "colab_type": "code",
        "colab": {
          "base_uri": "https://localhost:8080/",
          "height": 136
        },
        "outputId": "80046488-5165-464f-9e89-e94232b247a1"
      },
      "source": [
        "import numpy as np\n",
        "C1_values = train.C1.unique()\n",
        "C1_values.sort()\n",
        "ctr_avg_list=[]\n",
        "for i in C1_values:\n",
        "    ctr_avg=train.loc[np.where((train.C1 == i))].click.mean()\n",
        "    ctr_avg_list.append(ctr_avg)\n",
        "    print(\"for C1 value: {},  click through rate: {}\".format(i,ctr_avg))"
      ],
      "execution_count": 41,
      "outputs": [
        {
          "output_type": "stream",
          "text": [
            "for C1 value: 1001,  click through rate: 0.03414634146341464\n",
            "for C1 value: 1002,  click through rate: 0.21262162407929436\n",
            "for C1 value: 1005,  click through rate: 0.16987796276623535\n",
            "for C1 value: 1007,  click through rate: 0.020023557126030624\n",
            "for C1 value: 1008,  click through rate: 0.11688311688311688\n",
            "for C1 value: 1010,  click through rate: 0.09626895899905487\n",
            "for C1 value: 1012,  click through rate: 0.17566619915848528\n"
          ],
          "name": "stdout"
        }
      ]
    },
    {
      "cell_type": "code",
      "metadata": {
        "id": "Ro1f_W4vdoJW",
        "colab_type": "code",
        "colab": {
          "base_uri": "https://localhost:8080/",
          "height": 419
        },
        "outputId": "805b8a86-eaf5-4bd8-e783-6a3e3538f06d"
      },
      "source": [
        "train.groupby(['C1', 'click']).size().unstack().plot(kind='bar', figsize=(12,6), title='C1 histogram');"
      ],
      "execution_count": 42,
      "outputs": [
        {
          "output_type": "display_data",
          "data": {
            "image/png": "[encoded data removed]",
            "text/plain": [
              "<Figure size 864x432 with 1 Axes>"
            ]
          },
          "metadata": {
            "tags": []
          }
        }
      ]
    },
    {
      "cell_type": "code",
      "metadata": {
        "id": "7XreapbBdq_s",
        "colab_type": "code",
        "colab": {
          "base_uri": "https://localhost:8080/",
          "height": 404
        },
        "outputId": "68ff15aa-1e03-453c-89a3-17b9deb84ba4"
      },
      "source": [
        "df_c1 = train[['C1','click']].groupby(['C1']).count().reset_index()\n",
        "df_c1 = df_c1.rename(columns={'click': 'impressions'})\n",
        "df_c1['clicks'] = df_click[['C1','click']].groupby(['C1']).count().reset_index()['click']\n",
        "df_c1['CTR'] = df_c1['clicks']/df_c1['impressions']*100\n",
        "plt.figure(figsize=(12,6))\n",
        "sns.barplot(y='CTR', x='C1', data=df_c1)\n",
        "plt.title('CTR by C1');"
      ],
      "execution_count": 43,
      "outputs": [
        {
          "output_type": "display_data",
          "data": {
            "image/png": "[encoded data removed]",
            "text/plain": [
              "<Figure size 864x432 with 1 Axes>"
            ]
          },
          "metadata": {
            "tags": []
          }
        }
      ]
    },
    {
      "cell_type": "markdown",
      "metadata": {
        "id": "tmY_JdO4d_ee",
        "colab_type": "text"
      },
      "source": [
        "The important C1 values and CTR pairs are:\n",
        "\n",
        "> C1=1005: 92% of the data and 0.17 CTR\n",
        "\n",
        "> C1=1002: 5.5% of the data and 0.21 CTR\n",
        "\n",
        "> C1=1010: 2.2% of the data and 0.095 CTR\n",
        "\n",
        "> C1 = 1002 has a much higher than average CTR, and C1=1010 has a much lower than average CTR, it seems these two C1 values are important for predicting CTR."
      ]
    },
    {
      "cell_type": "markdown",
      "metadata": {
        "id": "DCIGS_uAeOnB",
        "colab_type": "text"
      },
      "source": [
        "## **Banner position**\n",
        "\n",
        "I have heard that there are many factors that affect the performance of your banner ads, but the most influential one is the banner position. Let’s see whether it is true."
      ]
    },
    {
      "cell_type": "code",
      "metadata": {
        "id": "nwdWGtF2dwgr",
        "colab_type": "code",
        "colab": {
          "base_uri": "https://localhost:8080/",
          "height": 153
        },
        "outputId": "1ae7a3d7-bff0-4e65-e9d7-b2792241d6ae"
      },
      "source": [
        "print(train.banner_pos.value_counts()/len(train))"
      ],
      "execution_count": 45,
      "outputs": [
        {
          "output_type": "stream",
          "text": [
            "0    0.719291\n",
            "1    0.278912\n",
            "7    0.001081\n",
            "2    0.000333\n",
            "4    0.000177\n",
            "5    0.000154\n",
            "3    0.000052\n",
            "Name: banner_pos, dtype: float64\n"
          ],
          "name": "stdout"
        }
      ]
    },
    {
      "cell_type": "code",
      "metadata": {
        "id": "Wm2vmQDqeZHM",
        "colab_type": "code",
        "colab": {
          "base_uri": "https://localhost:8080/",
          "height": 136
        },
        "outputId": "ecc00014-7571-42d2-dfc5-2ed81c70ef4a"
      },
      "source": [
        "banner_pos = train.banner_pos.unique()\n",
        "banner_pos.sort()\n",
        "ctr_avg_list=[]\n",
        "for i in banner_pos:\n",
        "    ctr_avg=train.loc[np.where((train.banner_pos == i))].click.mean()\n",
        "    ctr_avg_list.append(ctr_avg)\n",
        "    print(\"for banner position: {},  click through rate: {}\".format(i,ctr_avg))"
      ],
      "execution_count": 46,
      "outputs": [
        {
          "output_type": "stream",
          "text": [
            "for banner position: 0,  click through rate: 0.16473443988594325\n",
            "for banner position: 1,  click through rate: 0.18467473611748508\n",
            "for banner position: 2,  click through rate: 0.1021021021021021\n",
            "for banner position: 3,  click through rate: 0.19230769230769232\n",
            "for banner position: 4,  click through rate: 0.20903954802259886\n",
            "for banner position: 5,  click through rate: 0.11688311688311688\n",
            "for banner position: 7,  click through rate: 0.3209990749306198\n"
          ],
          "name": "stdout"
        }
      ]
    },
    {
      "cell_type": "markdown",
      "metadata": {
        "id": "4vY51m6gehnF",
        "colab_type": "text"
      },
      "source": [
        "The important banner positions are:\n",
        "\n",
        "> position 0: 72% of the data and 0.16 CTR\n",
        "\n",
        "> position 1: 28% of the data and 0.18 CTR"
      ]
    },
    {
      "cell_type": "code",
      "metadata": {
        "id": "R5RKzSrkeeLZ",
        "colab_type": "code",
        "colab": {
          "base_uri": "https://localhost:8080/",
          "height": 401
        },
        "outputId": "7ec270a4-1f29-4e82-b2dd-e1033efca032"
      },
      "source": [
        "train.groupby(['banner_pos', 'click']).size().unstack().plot(kind='bar', figsize=(12,6), title='banner position histogram');"
      ],
      "execution_count": 47,
      "outputs": [
        {
          "output_type": "display_data",
          "data": {
            "image/png": "[encoded data removed]",
            "text/plain": [
              "<Figure size 864x432 with 1 Axes>"
            ]
          },
          "metadata": {
            "tags": []
          }
        }
      ]
    },
    {
      "cell_type": "code",
      "metadata": {
        "id": "k01LyKkDenr_",
        "colab_type": "code",
        "colab": {
          "base_uri": "https://localhost:8080/",
          "height": 405
        },
        "outputId": "f251b8dc-6e25-4dba-8d7b-f9f8f21afb2e"
      },
      "source": [
        "df_banner = train[['banner_pos','click']].groupby(['banner_pos']).count().reset_index()\n",
        "df_banner = df_banner.rename(columns={'click': 'impressions'})\n",
        "df_banner['clicks'] = df_click[['banner_pos','click']].groupby(['banner_pos']).count().reset_index()['click']\n",
        "df_banner['CTR'] = df_banner['clicks']/df_banner['impressions']*100\n",
        "sort_banners = df_banner.sort_values(by='CTR',ascending=False)['banner_pos'].tolist()\n",
        "plt.figure(figsize=(12,6))\n",
        "sns.barplot(y='CTR', x='banner_pos', data=df_banner, order=sort_banners)\n",
        "plt.title('CTR by banner position');"
      ],
      "execution_count": 48,
      "outputs": [
        {
          "output_type": "display_data",
          "data": {
            "image/png": "[encoded data removed]",
            "text/plain": [
              "<Figure size 864x432 with 1 Axes>"
            ]
          },
          "metadata": {
            "tags": []
          }
        }
      ]
    },
    {
      "cell_type": "markdown",
      "metadata": {
        "id": "MQkXqo5uevJD",
        "colab_type": "text"
      },
      "source": [
        "**Although banner position 0 has the highest number of impressions and clicks, banner position 7 enjoys the highest CTR. Increasing the number of ads placed on banner position 7 seems to be a good idea.**"
      ]
    },
    {
      "cell_type": "markdown",
      "metadata": {
        "id": "BHKbBYhiey2u",
        "colab_type": "text"
      },
      "source": [
        "## **Device type**"
      ]
    },
    {
      "cell_type": "code",
      "metadata": {
        "id": "9uj2SpkFeqkD",
        "colab_type": "code",
        "colab": {
          "base_uri": "https://localhost:8080/",
          "height": 119
        },
        "outputId": "7a812be7-a768-4ab6-8369-3170e0ef016c"
      },
      "source": [
        "print('The impressions by device types')\n",
        "print((train.device_type.value_counts()/len(train)))"
      ],
      "execution_count": 49,
      "outputs": [
        {
          "output_type": "stream",
          "text": [
            "The impressions by device types\n",
            "1    0.922796\n",
            "0    0.054985\n",
            "4    0.019036\n",
            "5    0.003183\n",
            "Name: device_type, dtype: float64\n"
          ],
          "name": "stdout"
        }
      ]
    },
    {
      "cell_type": "code",
      "metadata": {
        "id": "23MO09bIe11q",
        "colab_type": "code",
        "colab": {
          "base_uri": "https://localhost:8080/",
          "height": 293
        },
        "outputId": "f95d14a4-3818-444f-d557-f091681ae79d"
      },
      "source": [
        "train[['device_type','click']].groupby(['device_type','click']).size().unstack().plot(kind='bar', title='device types');"
      ],
      "execution_count": 50,
      "outputs": [
        {
          "output_type": "display_data",
          "data": {
            "image/png": "[encoded data removed]",
            "text/plain": [
              "<Figure size 432x288 with 1 Axes>"
            ]
          },
          "metadata": {
            "tags": []
          }
        }
      ]
    },
    {
      "cell_type": "markdown",
      "metadata": {
        "id": "d6xWFRTwe6Vs",
        "colab_type": "text"
      },
      "source": [
        "**Device type 1 gets the most impressions and clicks, and the other device types only get the minimum impressions and clicks. We may want to look in more details about device type 1.**"
      ]
    },
    {
      "cell_type": "code",
      "metadata": {
        "id": "Xi9JzhfCe3-U",
        "colab_type": "code",
        "colab": {
          "base_uri": "https://localhost:8080/",
          "height": 408
        },
        "outputId": "455d8621-8aab-4a4f-be68-9b24b564afe3"
      },
      "source": [
        "df_click[df_click['device_type']==1].groupby(['hour_of_day', 'click']).size().unstack().plot(kind='bar', title=\"Clicks from device type 1 by hour of day\", figsize=(12,6));"
      ],
      "execution_count": 51,
      "outputs": [
        {
          "output_type": "display_data",
          "data": {
            "image/png": "[encoded data removed]",
            "text/plain": [
              "<Figure size 864x432 with 1 Axes>"
            ]
          },
          "metadata": {
            "tags": []
          }
        }
      ]
    },
    {
      "cell_type": "markdown",
      "metadata": {
        "id": "T04jLjGJfAbm",
        "colab_type": "text"
      },
      "source": [
        "**As expected, most clicks happened during the business hours from device type 1.**"
      ]
    },
    {
      "cell_type": "code",
      "metadata": {
        "id": "DBsIpVbse9Br",
        "colab_type": "code",
        "colab": {
          "base_uri": "https://localhost:8080/",
          "height": 173
        },
        "outputId": "d02ecf51-23ff-42fe-9a2c-d23bccd071fd"
      },
      "source": [
        "device_type_click = df_click.groupby('device_type').agg({'click':'sum'}).reset_index()\n",
        "device_type_impression = train.groupby('device_type').agg({'click':'count'}).reset_index().rename(columns={'click': 'impressions'})\n",
        "merged_device_type = pd.merge(left = device_type_click , right = device_type_impression, how = 'inner', on = 'device_type')\n",
        "merged_device_type['CTR'] = merged_device_type['click'] / merged_device_type['impressions']*100\n",
        "merged_device_type"
      ],
      "execution_count": 52,
      "outputs": [
        {
          "output_type": "execute_result",
          "data": {
            "text/html": [
              "<div>\n",
              "<style scoped>\n",
              "    .dataframe tbody tr th:only-of-type {\n",
              "        vertical-align: middle;\n",
              "    }\n",
              "\n",
              "    .dataframe tbody tr th {\n",
              "        vertical-align: top;\n",
              "    }\n",
              "\n",
              "    .dataframe thead th {\n",
              "        text-align: right;\n",
              "    }\n",
              "</style>\n",
              "<table border=\"1\" class=\"dataframe\">\n",
              "  <thead>\n",
              "    <tr style=\"text-align: right;\">\n",
              "      <th></th>\n",
              "      <th>device_type</th>\n",
              "      <th>click</th>\n",
              "      <th>impressions</th>\n",
              "      <th>CTR</th>\n",
              "    </tr>\n",
              "  </thead>\n",
              "  <tbody>\n",
              "    <tr>\n",
              "      <th>0</th>\n",
              "      <td>0</td>\n",
              "      <td>11691</td>\n",
              "      <td>54985</td>\n",
              "      <td>21.262162</td>\n",
              "    </tr>\n",
              "    <tr>\n",
              "      <th>1</th>\n",
              "      <td>1</td>\n",
              "      <td>156616</td>\n",
              "      <td>922796</td>\n",
              "      <td>16.971898</td>\n",
              "    </tr>\n",
              "    <tr>\n",
              "      <th>2</th>\n",
              "      <td>4</td>\n",
              "      <td>1853</td>\n",
              "      <td>19036</td>\n",
              "      <td>9.734188</td>\n",
              "    </tr>\n",
              "    <tr>\n",
              "      <th>3</th>\n",
              "      <td>5</td>\n",
              "      <td>286</td>\n",
              "      <td>3183</td>\n",
              "      <td>8.985234</td>\n",
              "    </tr>\n",
              "  </tbody>\n",
              "</table>\n",
              "</div>"
            ],
            "text/plain": [
              "   device_type   click  impressions        CTR\n",
              "0            0   11691        54985  21.262162\n",
              "1            1  156616       922796  16.971898\n",
              "2            4    1853        19036   9.734188\n",
              "3            5     286         3183   8.985234"
            ]
          },
          "metadata": {
            "tags": []
          },
          "execution_count": 52
        }
      ]
    },
    {
      "cell_type": "markdown",
      "metadata": {
        "id": "x_-8g40AfTou",
        "colab_type": "text"
      },
      "source": [
        "**The highest CTR comes from device type 0.**"
      ]
    },
    {
      "cell_type": "code",
      "metadata": {
        "id": "SS5LGdsTfGA6",
        "colab_type": "code",
        "colab": {}
      },
      "source": [
        ""
      ],
      "execution_count": 0,
      "outputs": []
    },
    {
      "cell_type": "markdown",
      "metadata": {
        "id": "VYwHYbmSfco3",
        "colab_type": "text"
      },
      "source": [
        "## **Building Models**"
      ]
    },
    {
      "cell_type": "markdown",
      "metadata": {
        "id": "izUdOiRihDtL",
        "colab_type": "text"
      },
      "source": [
        "## **Xgboost Model**"
      ]
    },
    {
      "cell_type": "code",
      "metadata": {
        "id": "UDOsLde7hA7R",
        "colab_type": "code",
        "colab": {}
      },
      "source": [
        "from operator import itemgetter\n",
        "from sklearn.model_selection import train_test_split\n",
        "import xgboost as xgb\n",
        "from sklearn.metrics import roc_auc_score\n",
        "\n",
        "def run_default_test(train, test, features, target, random_state=0):\n",
        "    eta = 0.1\n",
        "    max_depth = 5\n",
        "    subsample = 0.8\n",
        "    colsample_bytree = 0.8\n",
        "    print('XGBoost params. ETA: {}, MAX_DEPTH: {}, SUBSAMPLE: {}, COLSAMPLE_BY_TREE: {}'.format(eta, max_depth, subsample, colsample_bytree))\n",
        "    params = {\n",
        "        \"objective\": \"binary:logistic\",\n",
        "        \"booster\" : \"gbtree\",\n",
        "        \"eval_metric\": \"logloss\",\n",
        "        \"eta\": eta,\n",
        "        \"max_depth\": max_depth,\n",
        "        \"subsample\": subsample,\n",
        "        \"colsample_bytree\": colsample_bytree,\n",
        "        \"silent\": 1,\n",
        "        \"seed\": random_state\n",
        "    }\n",
        "    num_boost_round = 260\n",
        "    early_stopping_rounds = 20\n",
        "    test_size = 0.2\n",
        "\n",
        "    X_train, X_valid = train_test_split(train, test_size=test_size, random_state=random_state)\n",
        "    y_train = X_train[target]\n",
        "    y_valid = X_valid[target]\n",
        "    dtrain = xgb.DMatrix(X_train[features], y_train)\n",
        "    dvalid = xgb.DMatrix(X_valid[features], y_valid)\n",
        "    watchlist = [(dtrain, 'train'), (dvalid, 'eval')]\n",
        "    gbm = xgb.train(params, dtrain, num_boost_round, evals=watchlist, early_stopping_rounds=early_stopping_rounds, verbose_eval=True)"
      ],
      "execution_count": 0,
      "outputs": []
    },
    {
      "cell_type": "code",
      "metadata": {
        "id": "kWHkL4wwhb__",
        "colab_type": "code",
        "colab": {
          "base_uri": "https://localhost:8080/",
          "height": 1000
        },
        "outputId": "49a4b794-b1ba-4aab-f705-d25bf48b546d"
      },
      "source": [
        "features = ['C1', 'banner_pos', 'device_type', 'device_conn_type', 'C14',\n",
        "       'C15', 'C16', 'C17', 'C18', 'C19', 'C20', 'C21', 'hour_of_day',\n",
        "       'site_id_int', 'site_domain_int', 'site_category_int', 'app_id_int',\n",
        "       'app_domain_int', 'app_category_int', 'device_id_int', 'device_ip_int',\n",
        "       'device_model_int', 'day_of_week_int']\n",
        "run_default_test(train, y_target, features, 'click')"
      ],
      "execution_count": 78,
      "outputs": [
        {
          "output_type": "stream",
          "text": [
            "XGBoost params. ETA: 0.1, MAX_DEPTH: 5, SUBSAMPLE: 0.8, COLSAMPLE_BY_TREE: 0.8\n"
          ],
          "name": "stdout"
        },
        {
          "output_type": "stream",
          "text": [
            "/usr/local/lib/python3.6/dist-packages/xgboost/core.py:587: FutureWarning: Series.base is deprecated and will be removed in a future version\n",
            "  if getattr(data, 'base', None) is not None and \\\n",
            "/usr/local/lib/python3.6/dist-packages/xgboost/core.py:588: FutureWarning: Series.base is deprecated and will be removed in a future version\n",
            "  data.base is not None and isinstance(data, np.ndarray) \\\n"
          ],
          "name": "stderr"
        },
        {
          "output_type": "stream",
          "text": [
            "[0]\ttrain-logloss:0.648208\teval-logloss:0.64888\n",
            "Multiple eval metrics have been passed: 'eval-logloss' will be used for early stopping.\n",
            "\n",
            "Will train until eval-logloss hasn't improved in 20 rounds.\n",
            "[1]\ttrain-logloss:0.612805\teval-logloss:0.612823\n",
            "[2]\ttrain-logloss:0.58326\teval-logloss:0.582695\n",
            "[3]\ttrain-logloss:0.558224\teval-logloss:0.557856\n",
            "[4]\ttrain-logloss:0.537279\teval-logloss:0.536986\n",
            "[5]\ttrain-logloss:0.5194\teval-logloss:0.519509\n",
            "[6]\ttrain-logloss:0.504483\teval-logloss:0.504865\n",
            "[7]\ttrain-logloss:0.492699\teval-logloss:0.492418\n",
            "[8]\ttrain-logloss:0.481799\teval-logloss:0.481747\n",
            "[9]\ttrain-logloss:0.47291\teval-logloss:0.472866\n",
            "[10]\ttrain-logloss:0.465396\teval-logloss:0.465228\n",
            "[11]\ttrain-logloss:0.458408\teval-logloss:0.45869\n",
            "[12]\ttrain-logloss:0.453217\teval-logloss:0.453212\n",
            "[13]\ttrain-logloss:0.448263\teval-logloss:0.448366\n",
            "[14]\ttrain-logloss:0.444376\teval-logloss:0.444321\n",
            "[15]\ttrain-logloss:0.440775\teval-logloss:0.440566\n",
            "[16]\ttrain-logloss:0.437474\teval-logloss:0.437478\n",
            "[17]\ttrain-logloss:0.435118\teval-logloss:0.434937\n",
            "[18]\ttrain-logloss:0.432845\teval-logloss:0.432964\n",
            "[19]\ttrain-logloss:0.430914\teval-logloss:0.430822\n",
            "[20]\ttrain-logloss:0.429051\teval-logloss:0.429055\n",
            "[21]\ttrain-logloss:0.427553\teval-logloss:0.427542\n",
            "[22]\ttrain-logloss:0.426499\teval-logloss:0.426416\n",
            "[23]\ttrain-logloss:0.42537\teval-logloss:0.425324\n",
            "[24]\ttrain-logloss:0.424539\teval-logloss:0.424445\n",
            "[25]\ttrain-logloss:0.42334\teval-logloss:0.423465\n",
            "[26]\ttrain-logloss:0.42258\teval-logloss:0.422584\n",
            "[27]\ttrain-logloss:0.4219\teval-logloss:0.421813\n",
            "[28]\ttrain-logloss:0.421166\teval-logloss:0.421153\n",
            "[29]\ttrain-logloss:0.42039\teval-logloss:0.420414\n",
            "[30]\ttrain-logloss:0.419839\teval-logloss:0.41992\n",
            "[31]\ttrain-logloss:0.419366\teval-logloss:0.419391\n",
            "[32]\ttrain-logloss:0.418888\teval-logloss:0.419056\n",
            "[33]\ttrain-logloss:0.418533\teval-logloss:0.418678\n",
            "[34]\ttrain-logloss:0.418143\teval-logloss:0.418224\n",
            "[35]\ttrain-logloss:0.417864\teval-logloss:0.418027\n",
            "[36]\ttrain-logloss:0.417532\teval-logloss:0.417743\n",
            "[37]\ttrain-logloss:0.417079\teval-logloss:0.417253\n",
            "[38]\ttrain-logloss:0.416845\teval-logloss:0.417029\n",
            "[39]\ttrain-logloss:0.416569\teval-logloss:0.416745\n",
            "[40]\ttrain-logloss:0.416428\teval-logloss:0.416538\n",
            "[41]\ttrain-logloss:0.416069\teval-logloss:0.416202\n",
            "[42]\ttrain-logloss:0.415851\teval-logloss:0.415965\n",
            "[43]\ttrain-logloss:0.415542\teval-logloss:0.415631\n",
            "[44]\ttrain-logloss:0.415232\teval-logloss:0.415303\n",
            "[45]\ttrain-logloss:0.414938\teval-logloss:0.414991\n",
            "[46]\ttrain-logloss:0.414715\teval-logloss:0.414819\n",
            "[47]\ttrain-logloss:0.414501\teval-logloss:0.414637\n",
            "[48]\ttrain-logloss:0.414407\teval-logloss:0.414521\n",
            "[49]\ttrain-logloss:0.414212\teval-logloss:0.414345\n",
            "[50]\ttrain-logloss:0.413951\teval-logloss:0.414106\n",
            "[51]\ttrain-logloss:0.413746\teval-logloss:0.413848\n",
            "[52]\ttrain-logloss:0.413632\teval-logloss:0.413715\n",
            "[53]\ttrain-logloss:0.413314\teval-logloss:0.413429\n",
            "[54]\ttrain-logloss:0.413097\teval-logloss:0.41324\n",
            "[55]\ttrain-logloss:0.412896\teval-logloss:0.413037\n",
            "[56]\ttrain-logloss:0.412823\teval-logloss:0.412973\n",
            "[57]\ttrain-logloss:0.412668\teval-logloss:0.412824\n",
            "[58]\ttrain-logloss:0.412506\teval-logloss:0.412685\n",
            "[59]\ttrain-logloss:0.412335\teval-logloss:0.412521\n",
            "[60]\ttrain-logloss:0.412175\teval-logloss:0.412346\n",
            "[61]\ttrain-logloss:0.412009\teval-logloss:0.412202\n",
            "[62]\ttrain-logloss:0.411832\teval-logloss:0.412029\n",
            "[63]\ttrain-logloss:0.411709\teval-logloss:0.411924\n",
            "[64]\ttrain-logloss:0.411619\teval-logloss:0.411823\n",
            "[65]\ttrain-logloss:0.411466\teval-logloss:0.411678\n",
            "[66]\ttrain-logloss:0.411295\teval-logloss:0.411577\n",
            "[67]\ttrain-logloss:0.411165\teval-logloss:0.411483\n",
            "[68]\ttrain-logloss:0.410943\teval-logloss:0.411257\n",
            "[69]\ttrain-logloss:0.410827\teval-logloss:0.411152\n",
            "[70]\ttrain-logloss:0.410609\teval-logloss:0.410969\n",
            "[71]\ttrain-logloss:0.410488\teval-logloss:0.410869\n",
            "[72]\ttrain-logloss:0.410406\teval-logloss:0.410789\n",
            "[73]\ttrain-logloss:0.410281\teval-logloss:0.410664\n",
            "[74]\ttrain-logloss:0.410185\teval-logloss:0.410571\n",
            "[75]\ttrain-logloss:0.41007\teval-logloss:0.410463\n",
            "[76]\ttrain-logloss:0.409961\teval-logloss:0.410353\n",
            "[77]\ttrain-logloss:0.409853\teval-logloss:0.410249\n",
            "[78]\ttrain-logloss:0.409687\teval-logloss:0.410061\n",
            "[79]\ttrain-logloss:0.409562\teval-logloss:0.409938\n",
            "[80]\ttrain-logloss:0.409532\teval-logloss:0.40992\n",
            "[81]\ttrain-logloss:0.409443\teval-logloss:0.409849\n",
            "[82]\ttrain-logloss:0.409274\teval-logloss:0.409695\n",
            "[83]\ttrain-logloss:0.409219\teval-logloss:0.409636\n",
            "[84]\ttrain-logloss:0.409109\teval-logloss:0.409547\n",
            "[85]\ttrain-logloss:0.409067\teval-logloss:0.409504\n",
            "[86]\ttrain-logloss:0.408963\teval-logloss:0.40941\n",
            "[87]\ttrain-logloss:0.40878\teval-logloss:0.409201\n",
            "[88]\ttrain-logloss:0.408685\teval-logloss:0.409128\n",
            "[89]\ttrain-logloss:0.408606\teval-logloss:0.409056\n",
            "[90]\ttrain-logloss:0.40845\teval-logloss:0.408911\n",
            "[91]\ttrain-logloss:0.40839\teval-logloss:0.408868\n",
            "[92]\ttrain-logloss:0.408326\teval-logloss:0.408812\n",
            "[93]\ttrain-logloss:0.408262\teval-logloss:0.40875\n",
            "[94]\ttrain-logloss:0.408151\teval-logloss:0.408645\n",
            "[95]\ttrain-logloss:0.40808\teval-logloss:0.408585\n",
            "[96]\ttrain-logloss:0.408014\teval-logloss:0.408524\n",
            "[97]\ttrain-logloss:0.407883\teval-logloss:0.408398\n",
            "[98]\ttrain-logloss:0.407869\teval-logloss:0.408387\n",
            "[99]\ttrain-logloss:0.407808\teval-logloss:0.408337\n",
            "[100]\ttrain-logloss:0.407669\teval-logloss:0.408244\n",
            "[101]\ttrain-logloss:0.407569\teval-logloss:0.408161\n",
            "[102]\ttrain-logloss:0.407546\teval-logloss:0.408135\n",
            "[103]\ttrain-logloss:0.407445\teval-logloss:0.408054\n",
            "[104]\ttrain-logloss:0.407361\teval-logloss:0.407995\n",
            "[105]\ttrain-logloss:0.407286\teval-logloss:0.407922\n",
            "[106]\ttrain-logloss:0.407241\teval-logloss:0.407883\n",
            "[107]\ttrain-logloss:0.407158\teval-logloss:0.407824\n",
            "[108]\ttrain-logloss:0.407093\teval-logloss:0.407757\n",
            "[109]\ttrain-logloss:0.407007\teval-logloss:0.40768\n",
            "[110]\ttrain-logloss:0.40695\teval-logloss:0.407627\n",
            "[111]\ttrain-logloss:0.406833\teval-logloss:0.407504\n",
            "[112]\ttrain-logloss:0.40674\teval-logloss:0.407402\n",
            "[113]\ttrain-logloss:0.406679\teval-logloss:0.407341\n",
            "[114]\ttrain-logloss:0.406617\teval-logloss:0.407305\n",
            "[115]\ttrain-logloss:0.406515\teval-logloss:0.407223\n",
            "[116]\ttrain-logloss:0.406415\teval-logloss:0.407128\n",
            "[117]\ttrain-logloss:0.406283\teval-logloss:0.40701\n",
            "[118]\ttrain-logloss:0.406204\teval-logloss:0.406941\n",
            "[119]\ttrain-logloss:0.4061\teval-logloss:0.406851\n",
            "[120]\ttrain-logloss:0.406027\teval-logloss:0.406786\n",
            "[121]\ttrain-logloss:0.405962\teval-logloss:0.406722\n",
            "[122]\ttrain-logloss:0.405897\teval-logloss:0.40668\n",
            "[123]\ttrain-logloss:0.405852\teval-logloss:0.406645\n",
            "[124]\ttrain-logloss:0.405789\teval-logloss:0.406594\n",
            "[125]\ttrain-logloss:0.405744\teval-logloss:0.406544\n",
            "[126]\ttrain-logloss:0.405713\teval-logloss:0.406523\n",
            "[127]\ttrain-logloss:0.405671\teval-logloss:0.406492\n",
            "[128]\ttrain-logloss:0.405635\teval-logloss:0.406488\n",
            "[129]\ttrain-logloss:0.405577\teval-logloss:0.406446\n",
            "[130]\ttrain-logloss:0.405541\teval-logloss:0.406427\n",
            "[131]\ttrain-logloss:0.405524\teval-logloss:0.406416\n",
            "[132]\ttrain-logloss:0.40548\teval-logloss:0.406375\n",
            "[133]\ttrain-logloss:0.405438\teval-logloss:0.406338\n",
            "[134]\ttrain-logloss:0.405347\teval-logloss:0.406286\n",
            "[135]\ttrain-logloss:0.405265\teval-logloss:0.406226\n",
            "[136]\ttrain-logloss:0.405205\teval-logloss:0.406178\n",
            "[137]\ttrain-logloss:0.405136\teval-logloss:0.40611\n",
            "[138]\ttrain-logloss:0.405081\teval-logloss:0.406064\n",
            "[139]\ttrain-logloss:0.405\teval-logloss:0.40601\n",
            "[140]\ttrain-logloss:0.40494\teval-logloss:0.405955\n",
            "[141]\ttrain-logloss:0.404883\teval-logloss:0.405919\n",
            "[142]\ttrain-logloss:0.404852\teval-logloss:0.405898\n",
            "[143]\ttrain-logloss:0.404813\teval-logloss:0.40589\n",
            "[144]\ttrain-logloss:0.404769\teval-logloss:0.405853\n",
            "[145]\ttrain-logloss:0.404725\teval-logloss:0.405829\n",
            "[146]\ttrain-logloss:0.404665\teval-logloss:0.405775\n",
            "[147]\ttrain-logloss:0.404639\teval-logloss:0.405756\n",
            "[148]\ttrain-logloss:0.404569\teval-logloss:0.405686\n",
            "[149]\ttrain-logloss:0.404531\teval-logloss:0.405657\n",
            "[150]\ttrain-logloss:0.404491\teval-logloss:0.405633\n",
            "[151]\ttrain-logloss:0.404424\teval-logloss:0.405575\n",
            "[152]\ttrain-logloss:0.404369\teval-logloss:0.405544\n",
            "[153]\ttrain-logloss:0.404228\teval-logloss:0.405394\n",
            "[154]\ttrain-logloss:0.404171\teval-logloss:0.405348\n",
            "[155]\ttrain-logloss:0.404149\teval-logloss:0.405338\n",
            "[156]\ttrain-logloss:0.404101\teval-logloss:0.405315\n",
            "[157]\ttrain-logloss:0.404028\teval-logloss:0.405234\n",
            "[158]\ttrain-logloss:0.404012\teval-logloss:0.405229\n",
            "[159]\ttrain-logloss:0.40399\teval-logloss:0.405213\n",
            "[160]\ttrain-logloss:0.403942\teval-logloss:0.40518\n",
            "[161]\ttrain-logloss:0.403886\teval-logloss:0.405131\n",
            "[162]\ttrain-logloss:0.403839\teval-logloss:0.405094\n",
            "[163]\ttrain-logloss:0.403805\teval-logloss:0.405076\n",
            "[164]\ttrain-logloss:0.403774\teval-logloss:0.40505\n",
            "[165]\ttrain-logloss:0.403746\teval-logloss:0.405034\n",
            "[166]\ttrain-logloss:0.403701\teval-logloss:0.405002\n",
            "[167]\ttrain-logloss:0.403645\teval-logloss:0.404957\n",
            "[168]\ttrain-logloss:0.403631\teval-logloss:0.404947\n",
            "[169]\ttrain-logloss:0.403573\teval-logloss:0.404897\n",
            "[170]\ttrain-logloss:0.403507\teval-logloss:0.404833\n",
            "[171]\ttrain-logloss:0.40338\teval-logloss:0.404732\n",
            "[172]\ttrain-logloss:0.403341\teval-logloss:0.404717\n",
            "[173]\ttrain-logloss:0.403325\teval-logloss:0.404718\n",
            "[174]\ttrain-logloss:0.403299\teval-logloss:0.404698\n",
            "[175]\ttrain-logloss:0.403269\teval-logloss:0.404681\n",
            "[176]\ttrain-logloss:0.403206\teval-logloss:0.404626\n",
            "[177]\ttrain-logloss:0.403176\teval-logloss:0.404604\n",
            "[178]\ttrain-logloss:0.403132\teval-logloss:0.404581\n",
            "[179]\ttrain-logloss:0.403127\teval-logloss:0.404581\n",
            "[180]\ttrain-logloss:0.403079\teval-logloss:0.404534\n",
            "[181]\ttrain-logloss:0.403038\teval-logloss:0.404506\n",
            "[182]\ttrain-logloss:0.40299\teval-logloss:0.404461\n",
            "[183]\ttrain-logloss:0.402953\teval-logloss:0.404436\n",
            "[184]\ttrain-logloss:0.40292\teval-logloss:0.404419\n",
            "[185]\ttrain-logloss:0.402875\teval-logloss:0.404387\n",
            "[186]\ttrain-logloss:0.402783\teval-logloss:0.404327\n",
            "[187]\ttrain-logloss:0.402732\teval-logloss:0.404279\n",
            "[188]\ttrain-logloss:0.402693\teval-logloss:0.404262\n",
            "[189]\ttrain-logloss:0.402605\teval-logloss:0.404194\n",
            "[190]\ttrain-logloss:0.402546\teval-logloss:0.40414\n",
            "[191]\ttrain-logloss:0.402529\teval-logloss:0.40413\n",
            "[192]\ttrain-logloss:0.402474\teval-logloss:0.404094\n",
            "[193]\ttrain-logloss:0.402393\teval-logloss:0.404036\n",
            "[194]\ttrain-logloss:0.402321\teval-logloss:0.403966\n",
            "[195]\ttrain-logloss:0.402283\teval-logloss:0.403937\n",
            "[196]\ttrain-logloss:0.402217\teval-logloss:0.403892\n",
            "[197]\ttrain-logloss:0.402191\teval-logloss:0.403873\n",
            "[198]\ttrain-logloss:0.402158\teval-logloss:0.403855\n",
            "[199]\ttrain-logloss:0.402104\teval-logloss:0.403817\n",
            "[200]\ttrain-logloss:0.402083\teval-logloss:0.403803\n",
            "[201]\ttrain-logloss:0.402028\teval-logloss:0.403753\n",
            "[202]\ttrain-logloss:0.402\teval-logloss:0.403747\n",
            "[203]\ttrain-logloss:0.401981\teval-logloss:0.403735\n",
            "[204]\ttrain-logloss:0.401944\teval-logloss:0.403718\n",
            "[205]\ttrain-logloss:0.401912\teval-logloss:0.40369\n",
            "[206]\ttrain-logloss:0.401877\teval-logloss:0.403669\n",
            "[207]\ttrain-logloss:0.401835\teval-logloss:0.403629\n",
            "[208]\ttrain-logloss:0.401792\teval-logloss:0.403591\n",
            "[209]\ttrain-logloss:0.401773\teval-logloss:0.40358\n",
            "[210]\ttrain-logloss:0.401748\teval-logloss:0.40357\n",
            "[211]\ttrain-logloss:0.401718\teval-logloss:0.403546\n",
            "[212]\ttrain-logloss:0.401677\teval-logloss:0.403509\n",
            "[213]\ttrain-logloss:0.401654\teval-logloss:0.403494\n",
            "[214]\ttrain-logloss:0.401622\teval-logloss:0.403476\n",
            "[215]\ttrain-logloss:0.401598\teval-logloss:0.403459\n",
            "[216]\ttrain-logloss:0.401556\teval-logloss:0.403421\n",
            "[217]\ttrain-logloss:0.401549\teval-logloss:0.40342\n",
            "[218]\ttrain-logloss:0.401477\teval-logloss:0.403352\n",
            "[219]\ttrain-logloss:0.401434\teval-logloss:0.40331\n",
            "[220]\ttrain-logloss:0.401402\teval-logloss:0.403285\n",
            "[221]\ttrain-logloss:0.401372\teval-logloss:0.403264\n",
            "[222]\ttrain-logloss:0.401332\teval-logloss:0.403251\n",
            "[223]\ttrain-logloss:0.401303\teval-logloss:0.403234\n",
            "[224]\ttrain-logloss:0.401295\teval-logloss:0.403233\n",
            "[225]\ttrain-logloss:0.401241\teval-logloss:0.403183\n",
            "[226]\ttrain-logloss:0.401205\teval-logloss:0.403161\n",
            "[227]\ttrain-logloss:0.401186\teval-logloss:0.403163\n",
            "[228]\ttrain-logloss:0.401172\teval-logloss:0.403156\n",
            "[229]\ttrain-logloss:0.401165\teval-logloss:0.403146\n",
            "[230]\ttrain-logloss:0.401141\teval-logloss:0.403134\n",
            "[231]\ttrain-logloss:0.401118\teval-logloss:0.403118\n",
            "[232]\ttrain-logloss:0.401075\teval-logloss:0.403079\n",
            "[233]\ttrain-logloss:0.401063\teval-logloss:0.403079\n",
            "[234]\ttrain-logloss:0.40105\teval-logloss:0.40307\n",
            "[235]\ttrain-logloss:0.401019\teval-logloss:0.403055\n",
            "[236]\ttrain-logloss:0.40099\teval-logloss:0.403031\n",
            "[237]\ttrain-logloss:0.400929\teval-logloss:0.402994\n",
            "[238]\ttrain-logloss:0.400907\teval-logloss:0.402992\n",
            "[239]\ttrain-logloss:0.400893\teval-logloss:0.402994\n",
            "[240]\ttrain-logloss:0.400838\teval-logloss:0.402941\n",
            "[241]\ttrain-logloss:0.400812\teval-logloss:0.402915\n",
            "[242]\ttrain-logloss:0.400801\teval-logloss:0.402911\n",
            "[243]\ttrain-logloss:0.400759\teval-logloss:0.402862\n",
            "[244]\ttrain-logloss:0.400712\teval-logloss:0.402817\n",
            "[245]\ttrain-logloss:0.400663\teval-logloss:0.402773\n",
            "[246]\ttrain-logloss:0.400607\teval-logloss:0.402734\n",
            "[247]\ttrain-logloss:0.400576\teval-logloss:0.402714\n",
            "[248]\ttrain-logloss:0.400527\teval-logloss:0.402684\n",
            "[249]\ttrain-logloss:0.4005\teval-logloss:0.402662\n",
            "[250]\ttrain-logloss:0.40048\teval-logloss:0.402647\n",
            "[251]\ttrain-logloss:0.400455\teval-logloss:0.402633\n",
            "[252]\ttrain-logloss:0.400423\teval-logloss:0.402612\n",
            "[253]\ttrain-logloss:0.400399\teval-logloss:0.402601\n",
            "[254]\ttrain-logloss:0.400381\teval-logloss:0.402595\n",
            "[255]\ttrain-logloss:0.400358\teval-logloss:0.402587\n",
            "[256]\ttrain-logloss:0.400348\teval-logloss:0.402587\n",
            "[257]\ttrain-logloss:0.400338\teval-logloss:0.402583\n",
            "[258]\ttrain-logloss:0.400312\teval-logloss:0.40257\n",
            "[259]\ttrain-logloss:0.400301\teval-logloss:0.402568\n"
          ],
          "name": "stdout"
        }
      ]
    },
    {
      "cell_type": "markdown",
      "metadata": {
        "id": "11FKjV8Xinjk",
        "colab_type": "text"
      },
      "source": [
        "**It will train until eval-logloss hasn’t improved in 20 rounds. And the final output:**\n",
        "\n",
        "> **[259]\ttrain-logloss:0.400301\teval-logloss:0.402568**"
      ]
    }
  ]
}