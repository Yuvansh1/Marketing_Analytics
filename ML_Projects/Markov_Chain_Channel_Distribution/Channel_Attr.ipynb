{
 "cells": [
  {
   "cell_type": "markdown",
   "metadata": {},
   "source": [
    "# Import Necessary Libraries"
   ]
  },
  {
   "cell_type": "code",
   "execution_count": 1,
   "metadata": {},
   "outputs": [],
   "source": [
    "import pandas as pd\n",
    "import seaborn as sns\n",
    "import matplotlib.pyplot as plt\n",
    "import subprocess"
   ]
  },
  {
   "cell_type": "code",
   "execution_count": 5,
   "metadata": {},
   "outputs": [],
   "source": [
    "# Load in our data\n",
    "df = pd.read_csv('Channel_attribution.csv')\n",
    "\n",
    "# Grab list of columns to iterate through\n",
    "cols = df.columns\n",
    "\n",
    "# Iterate through columns to change all ints to str and remove any trailing '.0'\n",
    "for col in cols:\n",
    "    df[col] = df[col].astype(str)\n",
    "    df[col] = df[col].map(lambda x: str(x)[:-2] if '.' in x else str(x))"
   ]
  },
  {
   "cell_type": "code",
   "execution_count": 8,
   "metadata": {},
   "outputs": [],
   "source": [
    "'''The Markov chain framework wants the user journeys in a single variable \n",
    "and on the form Channel 1 > Channel 2 > Channel 3 > …, \n",
    "so the next loop creates exactly that'''\n",
    "\n",
    "\n",
    "# Create a total path variable\n",
    "df['Path'] = ''\n",
    "for i in df.index:\n",
    "    #df.at[i, 'Path'] = 'Start'\n",
    "    for x in cols:\n",
    "        df.at[i, 'Path'] = df.at[i, 'Path'] + df.at[i, x] + ' > '\n",
    "'''\n",
    "Output of first row looks like this in Path Column\n",
    "16 > 4 > 3 > 5 > 10 > 8 > 6 > 8 > 13 > 20 > 21 > nan > nan > nan > nan > nan > nan > nan > nan > nan > nan > \n",
    "'''"
   ]
  },
  {
   "cell_type": "code",
   "execution_count": null,
   "metadata": {},
   "outputs": [],
   "source": [
    "'''Since channel 21 in our dataset is a conversion event, we will separate that channel \n",
    "from the path and create a separate conversion variable holding the number of conversions \n",
    "happening (still only 1 in our user journey level data)'''"
   ]
  },
  {
   "cell_type": "code",
   "execution_count": 10,
   "metadata": {},
   "outputs": [],
   "source": [
    "# Split path on conversion (channel 21)\n",
    "df['Path'] = df['Path'].map(lambda x: x.split(' > 21')[0])\n",
    "\n",
    "# Create conversion value we can sum to get total conversions for each path\n",
    "df['Conversion'] = 1\n",
    "\n",
    "#This code remove nan and 21 value from Path column and make a new column Conversion where all value is 1"
   ]
  },
  {
   "cell_type": "code",
   "execution_count": 13,
   "metadata": {},
   "outputs": [],
   "source": [
    "# Select relevant columns\n",
    "df = df[['Path', 'Conversion']]\n",
    "# Sum conversions by Path\n",
    "df = df.groupby('Path').sum().reset_index()\n",
    "\n",
    "# Write DF to CSV to be executed in R\n",
    "df.to_csv('Paths.csv', index=False)"
   ]
  },
  {
   "cell_type": "code",
   "execution_count": null,
   "metadata": {},
   "outputs": [],
   "source": [
    "'''To be more efficient, we’ll make use of the ChannelAttribution R library \n",
    "which has the theory behind Markov chains centered in a single application.\n",
    "We will use the standard Python library subprocess to run the piece of R code that calculates our Markov network for us.'''"
   ]
  },
  {
   "cell_type": "code",
   "execution_count": 30,
   "metadata": {
    "scrolled": true
   },
   "outputs": [
    {
     "data": {
      "text/plain": [
       "<matplotlib.axes._subplots.AxesSubplot at 0x1ff55e0d208>"
      ]
     },
     "execution_count": 30,
     "metadata": {},
     "output_type": "execute_result"
    },
    {
     "data": {
      "image/png": "[encoded data removed]",
      "text/plain": [
       "<Figure size 432x288 with 1 Axes>"
      ]
     },
     "metadata": {
      "needs_background": "light"
     },
     "output_type": "display_data"
    }
   ],
   "source": [
    "# Define the path to the R script that will run the Markov Model\n",
    "path2script = 'C:/Users/New User/Desktop/Marketing_Analytics/ML_Projects/Markov_Chain_Channel_Distribution/Markov.r'\n",
    "\n",
    "# Call the R script\n",
    "subprocess.call(['Rscript', '--vanilla', path2script], shell=True)\n",
    "\n",
    "# Load in the CSV file with the model output from R\n",
    "markov = pd.read_csv('Markov - Output - Conversion values.csv')\n",
    "\n",
    "# Select only the necessary columns and rename them\n",
    "markov = markov[['channel_name', 'total_conversions']]\n",
    "markov.columns = ['Channel', 'Conversion']\n",
    "sns.barplot(x='Channel', y=\"Conversion\", data=markov, order=markov['Channel'])"
   ]
  },
  {
   "cell_type": "code",
   "execution_count": null,
   "metadata": {},
   "outputs": [],
   "source": [
    "'''This chart should tell you that channel 20 is driving a large portion \n",
    "of conversions while channels 18 and 19 are attributed very low total conversion values.'''"
   ]
  },
  {
   "cell_type": "code",
   "execution_count": null,
   "metadata": {},
   "outputs": [],
   "source": [
    "'''To calculate attributions for Last Touch, First Touch and Linear, we run the following piece of code'''"
   ]
  },
  {
   "cell_type": "code",
   "execution_count": 50,
   "metadata": {},
   "outputs": [],
   "source": [
    "# First Touch Attribution\n",
    "df['First Touch'] = df['Path'].map(lambda x: x.split(' > ')[0])\n",
    "df_ft = pd.DataFrame()\n",
    "df_ft['Channel'] = df['First Touch']\n",
    "df_ft['Attribution'] = 'First Touch'\n",
    "df_ft['Conversion'] = 1\n",
    "df_ft = df_ft.groupby(['Channel', 'Attribution']).sum().reset_index()\n",
    "\n",
    "# Last Touch Attribution\n",
    "df['Last Touch'] = df['Path'].map(lambda x: x.split(' > ')[-1])\n",
    "df_lt = pd.DataFrame()\n",
    "df_lt['Channel'] = df['Last Touch']\n",
    "df_lt['Attribution'] = 'Last Touch'\n",
    "df_lt['Conversion'] = 1\n",
    "df_lt = df_lt.groupby(['Channel', 'Attribution']).sum().reset_index()\n",
    "\n",
    "# Linear Attribution\n",
    "channel = []\n",
    "conversion = []\n",
    "for i in df.index:\n",
    "    for j in df.at[i, 'Path'].split(' > '):\n",
    "        channel.append(j)\n",
    "        conversion.append(1/len(df.at[i, 'Path'].split(' > ')))\n",
    "lin_att_df = pd.DataFrame()\n",
    "lin_att_df['Channel'] = channel\n",
    "lin_att_df['Attribution'] = 'Linear'\n",
    "lin_att_df['Conversion'] = conversion\n",
    "lin_att_df = lin_att_df.groupby(['Channel', 'Attribution']).sum().reset_index()"
   ]
  },
  {
   "cell_type": "code",
   "execution_count": 53,
   "metadata": {
    "scrolled": true
   },
   "outputs": [
    {
     "name": "stderr",
     "output_type": "stream",
     "text": [
      "C:\\Users\\New User\\Anaconda3\\lib\\site-packages\\ipykernel_launcher.py:2: FutureWarning: Sorting because non-concatenation axis is not aligned. A future version\n",
      "of pandas will change to not sort by default.\n",
      "\n",
      "To accept the future behavior, pass 'sort=False'.\n",
      "\n",
      "To retain the current behavior and silence the warning, pass 'sort=True'.\n",
      "\n",
      "  \n"
     ]
    },
    {
     "data": {
      "image/png": "[encoded data removed]",
      "text/plain": [
       "<Figure size 1152x720 with 1 Axes>"
      ]
     },
     "metadata": {},
     "output_type": "display_data"
    }
   ],
   "source": [
    "# Concatenate the four data frames to a single data frame\n",
    "df_total_attr = pd.concat([df_ft, df_lt, lin_att_df, markov])\n",
    "df_total_attr['Channel'] = df_total_attr['Channel'].astype(int)\n",
    "df_total_attr.sort_values(by='Channel', ascending=True, inplace=True)\n",
    "\n",
    "\n",
    "# Visualize the attributions\n",
    "sns.set_style(\"whitegrid\")\n",
    "plt.rc('legend', fontsize=15)\n",
    "fig, ax = plt.subplots(figsize=(16, 10))\n",
    "sns.barplot(x='Channel', y='Conversion', hue='Attribution', data=df_total_attr)\n",
    "plt.show()"
   ]
  },
  {
   "cell_type": "code",
   "execution_count": 54,
   "metadata": {
    "scrolled": false
   },
   "outputs": [
    {
     "data": {
      "image/png": "[encoded data removed]",
      "text/plain": [
       "<Figure size 1584x864 with 2 Axes>"
      ]
     },
     "metadata": {},
     "output_type": "display_data"
    }
   ],
   "source": [
    "# Read in transition matrix CSV\n",
    "trans_prob = pd.read_csv('Markov - Output - Transition matrix.csv')\n",
    "\n",
    "# Convert data to floats\n",
    "trans_prob ['transition_probability'] = trans_prob ['transition_probability'].astype(float)\n",
    "\n",
    "# Convert start and conversion event to numeric values so we can sort and iterate through\n",
    "trans_prob .replace('(start)', '0', inplace=True)\n",
    "trans_prob .replace('(conversion)', '21', inplace=True)\n",
    "\n",
    "# Get unique origin channels\n",
    "channel_from_unique = trans_prob ['channel_from'].unique().tolist()\n",
    "channel_from_unique.sort(key=float)\n",
    "\n",
    "# Get unique destination channels\n",
    "channel_to_unique = trans_prob ['channel_to'].unique().tolist()\n",
    "channel_to_unique.sort(key=float)\n",
    "\n",
    "# Create new matrix with origin and destination channels as columns and index\n",
    "trans_matrix = pd.DataFrame(columns=channel_to_unique, index=channel_from_unique)\n",
    "\n",
    "# Assign the probabilities to the corresponding cells in our transition matrix\n",
    "for f in channel_from_unique:\n",
    "    for t in channel_to_unique:\n",
    "        x = trans_prob [(trans_prob ['channel_from'] == f) & (trans_prob ['channel_to'] == t)]\n",
    "        prob = x['transition_probability'].values\n",
    "        if prob.size > 0:\n",
    "            trans_matrix[t][f] = prob[0]\n",
    "        else:\n",
    "            trans_matrix[t][f] = 0\n",
    "\n",
    "# Convert all probabilities to floats\n",
    "trans_matrix = trans_matrix.apply(pd.to_numeric)\n",
    "\n",
    "# Rename our start and conversion events\n",
    "trans_matrix.rename(index={'0': 'Start'}, inplace=True)\n",
    "trans_matrix.rename(columns={'21': 'Conversion'}, inplace=True)\n",
    "\n",
    "# Visualize this transition matrix in a heatmap\n",
    "sns.set_style(\"whitegrid\")\n",
    "fig, ax = plt.subplots(figsize=(22, 12))\n",
    "sns.heatmap(trans_matrix, cmap=\"RdBu_r\")\n",
    "plt.show()"
   ]
  },
  {
   "cell_type": "code",
   "execution_count": null,
   "metadata": {},
   "outputs": [],
   "source": [
    "#For reference please check https://medium.com/@mortenhegewald/marketing-channel-attribution-using-markov-chains-101-in-python-78fb181ebf1e"
   ]
  },
  {
   "cell_type": "markdown",
   "metadata": {},
   "source": [
    "# Conclusion"
   ]
  },
  {
   "cell_type": "markdown",
   "metadata": {},
   "source": [
    "Different marketing channel attribution approaches will fit different businesses. In this article, we’ve outlined 4 possible ways to evaluate the effectiveness of your marketing spend. We’ve explored 3 approaches that are fixed in the sense that they are not dependent on the structure of your data, which may lead to overconfidence. On the other hand, a Markov chain approach will look to model channel attribution by accounting for how your user journey data is structured; though this approach is more complex.\n",
    "Analyzing the output of the Markov chain model will give you a “snapshot” of marketing channel effectiveness, at a specific point in time. You might be able to gain extra insights by looking at the model output for data just before and after a new marketing campaign launch, giving you essential information on how the campaign affected the performance of each channel.\n",
    "By adding even more granularity and running daily attribution models, you could evaluate the relationship between PPC or marketing dollar spent and channel contribution using correlation models.\n",
    "While adding more complexity to the approach presented in this article could increase the value of the model outputs, the real business value will come from being able to interpret these quantitative model results and combine these with domain knowledge on your business and the strategic business initiatives that have produced your data.\n",
    "Combining these model results with the knowledge of your business will allow you to best incorporate the model findings into future initiatives.\n",
    "Marketing channel attribution can be a complex task and with consumers being reached by more marketing than ever. As technology advances and more channels become available to marketers, it becomes more important to identify precisely the channels that are driving the most ROI."
   ]
  }
 ],
 "metadata": {
  "kernelspec": {
   "display_name": "Python 3",
   "language": "python",
   "name": "python3"
  },
  "language_info": {
   "codemirror_mode": {
    "name": "ipython",
    "version": 3
   },
   "file_extension": ".py",
   "mimetype": "text/x-python",
   "name": "python",
   "nbconvert_exporter": "python",
   "pygments_lexer": "ipython3",
   "version": "3.7.3"
  }
 },
 "nbformat": 4,
 "nbformat_minor": 2
}
