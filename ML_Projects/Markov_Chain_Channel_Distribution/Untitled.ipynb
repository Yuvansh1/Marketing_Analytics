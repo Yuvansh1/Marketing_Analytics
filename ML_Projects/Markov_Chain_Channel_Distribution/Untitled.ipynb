{
 "cells": [
  {
   "cell_type": "markdown",
   "metadata": {},
   "source": [
    "# Import Necessary Libraries"
   ]
  },
  {
   "cell_type": "code",
   "execution_count": 1,
   "metadata": {},
   "outputs": [],
   "source": [
    "import pandas as pd\n",
    "import seaborn as sns\n",
    "import matplotlib.pyplot as plt\n",
    "import subprocess"
   ]
  },
  {
   "cell_type": "code",
   "execution_count": 5,
   "metadata": {},
   "outputs": [],
   "source": [
    "# Load in our data\n",
    "df = pd.read_csv('Channel_attribution.csv')\n",
    "\n",
    "# Grab list of columns to iterate through\n",
    "cols = df.columns\n",
    "\n",
    "# Iterate through columns to change all ints to str and remove any trailing '.0'\n",
    "for col in cols:\n",
    "    df[col] = df[col].astype(str)\n",
    "    df[col] = df[col].map(lambda x: str(x)[:-2] if '.' in x else str(x))"
   ]
  },
  {
   "cell_type": "code",
   "execution_count": null,
   "metadata": {},
   "outputs": [],
   "source": [
    "'''The Markov chain framework wants the user journeys in a single variable \n",
    "and on the form Channel 1 > Channel 2 > Channel 3 > …, \n",
    "so the next loop creates exactly that'''\n",
    "\n",
    "\n",
    "# Create a total path variable\n",
    "df['Path'] = ''\n",
    "for i in df.index:\n",
    "    #df.at[i, 'Path'] = 'Start'\n",
    "    for x in cols:\n",
    "        df.at[i, 'Path'] = df.at[i, 'Path'] + df.at[i, x] + ' > '\n",
    "        df.to_csv('output.csv')"
   ]
  }
 ],
 "metadata": {
  "kernelspec": {
   "display_name": "Python 3",
   "language": "python",
   "name": "python3"
  },
  "language_info": {
   "codemirror_mode": {
    "name": "ipython",
    "version": 3
   },
   "file_extension": ".py",
   "mimetype": "text/x-python",
   "name": "python",
   "nbconvert_exporter": "python",
   "pygments_lexer": "ipython3",
   "version": "3.7.3"
  }
 },
 "nbformat": 4,
 "nbformat_minor": 2
}
