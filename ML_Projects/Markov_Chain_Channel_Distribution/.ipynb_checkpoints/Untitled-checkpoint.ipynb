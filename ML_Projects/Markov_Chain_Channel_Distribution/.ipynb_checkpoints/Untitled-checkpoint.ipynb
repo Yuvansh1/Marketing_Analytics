{
 "cells": [
  {
   "cell_type": "markdown",
   "metadata": {},
   "source": [
    "# Import Necessary Libraries"
   ]
  },
  {
   "cell_type": "code",
   "execution_count": 1,
   "metadata": {},
   "outputs": [],
   "source": [
    "import pandas as pd\n",
    "import seaborn as sns\n",
    "import matplotlib.pyplot as plt\n",
    "import subprocess"
   ]
  },
  {
   "cell_type": "code",
   "execution_count": 3,
   "metadata": {},
   "outputs": [
    {
     "data": {
      "text/plain": [
       "Index(['R05A.01', 'R05A.02', 'R05A.03', 'R05A.04', 'R05A.05', 'R05A.06',\n",
       "       'R05A.07', 'R05A.08', 'R05A.09', 'R05A.10', 'R05A.11', 'R05A.12',\n",
       "       'R05A.13', 'R05A.14', 'R05A.15', 'R05A.16', 'R05A.17', 'R05A.18',\n",
       "       'R05A.19', 'R05A.20', 'Output'],\n",
       "      dtype='object')"
      ]
     },
     "execution_count": 3,
     "metadata": {},
     "output_type": "execute_result"
    }
   ],
   "source": [
    "# Load in our data\n",
    "df = pd.read_csv('Channel_attribution.csv')\n",
    "\n",
    "# Grab list of columns to iterate through\n",
    "cols = df.columns\n",
    "\n",
    "# Iterate through columns to change all ints to str and remove any trailing '.0'\n",
    "for col in cols:\n",
    "   df[col] = df[col].astype(str)\n",
    "    df[col] = df[col].map(lambda x: str(x)[:-2] if '.' in x else str(x))"
   ]
  }
 ],
 "metadata": {
  "kernelspec": {
   "display_name": "Python 3",
   "language": "python",
   "name": "python3"
  },
  "language_info": {
   "codemirror_mode": {
    "name": "ipython",
    "version": 3
   },
   "file_extension": ".py",
   "mimetype": "text/x-python",
   "name": "python",
   "nbconvert_exporter": "python",
   "pygments_lexer": "ipython3",
   "version": "3.7.3"
  }
 },
 "nbformat": 4,
 "nbformat_minor": 2
}
